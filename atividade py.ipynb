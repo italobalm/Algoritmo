{
 "cells": [
  {
   "cell_type": "code",
   "execution_count": 4,
   "metadata": {},
   "outputs": [
    {
     "name": "stdout",
     "output_type": "stream",
     "text": [
      "10\n"
     ]
    }
   ],
   "source": [
    "lista = [0,1,2,3,4]\n",
    "print(sum(lista))"
   ]
  },
  {
   "cell_type": "code",
   "execution_count": 6,
   "metadata": {},
   "outputs": [
    {
     "name": "stdout",
     "output_type": "stream",
     "text": [
      "Adriana\n",
      "Bárbara\n",
      "Camila\n",
      "Danielle\n",
      "Fernanda\n"
     ]
    }
   ],
   "source": [
    "atrizes = [\"Adriana\", \"Bárbara\", \"Camila\", \"Danielle\", \"Fernanda\"]\n",
    "for nome in atrizes:\n",
    " print(nome)"
   ]
  },
  {
   "cell_type": "code",
   "execution_count": 9,
   "metadata": {},
   "outputs": [
    {
     "name": "stdout",
     "output_type": "stream",
     "text": [
      "Adriana está armazenado no índice 0\n",
      "Bárbara está armazenado no índice 1\n",
      "Camila está armazenado no índice 2\n",
      "Danielle está armazenado no índice 3\n",
      "Fernanda está armazenado no índice 4\n"
     ]
    }
   ],
   "source": [
    "atrizes = [\"Adriana\", \"Bárbara\", \"Camila\", \"Danielle\", \"Fernanda\"]\n",
    "for indice, nome in enumerate(atrizes):\n",
    " print(f\"{nome} está armazenado no índice {indice}\")"
   ]
  }
 ],
 "metadata": {
  "kernelspec": {
   "display_name": "Python 3",
   "language": "python",
   "name": "python3"
  },
  "language_info": {
   "codemirror_mode": {
    "name": "ipython",
    "version": 3
   },
   "file_extension": ".py",
   "mimetype": "text/x-python",
   "name": "python",
   "nbconvert_exporter": "python",
   "pygments_lexer": "ipython3",
   "version": "3.12.1"
  }
 },
 "nbformat": 4,
 "nbformat_minor": 2
}
