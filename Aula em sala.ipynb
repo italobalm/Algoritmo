{
 "cells": [
  {
   "cell_type": "code",
   "execution_count": 35,
   "metadata": {},
   "outputs": [
    {
     "data": {
      "text/plain": [
       "3"
      ]
     },
     "execution_count": 35,
     "metadata": {},
     "output_type": "execute_result"
    }
   ],
   "source": [
    "#criando listas\n",
    "dias = [3, 1, 10]\n",
    "#as listas começam a contar a partir índice 0\n",
    "dias[0]"
   ]
  },
  {
   "cell_type": "code",
   "execution_count": 36,
   "metadata": {},
   "outputs": [
    {
     "data": {
      "text/plain": [
       "1"
      ]
     },
     "execution_count": 36,
     "metadata": {},
     "output_type": "execute_result"
    }
   ],
   "source": [
    "dias[1]"
   ]
  },
  {
   "cell_type": "code",
   "execution_count": 37,
   "metadata": {},
   "outputs": [
    {
     "data": {
      "text/plain": [
       "10"
      ]
     },
     "execution_count": 37,
     "metadata": {},
     "output_type": "execute_result"
    }
   ],
   "source": [
    "dias[2]"
   ]
  },
  {
   "cell_type": "code",
   "execution_count": 38,
   "metadata": {},
   "outputs": [
    {
     "data": {
      "text/plain": [
       "[3, 8, 9]"
      ]
     },
     "execution_count": 38,
     "metadata": {},
     "output_type": "execute_result"
    }
   ],
   "source": [
    "Z = [3, 8, 9]\n",
    "Z"
   ]
  },
  {
   "cell_type": "code",
   "execution_count": 39,
   "metadata": {},
   "outputs": [
    {
     "data": {
      "text/plain": [
       "[7, 8, 9]"
      ]
     },
     "execution_count": 39,
     "metadata": {},
     "output_type": "execute_result"
    }
   ],
   "source": [
    "Z[0] = 7\n",
    "Z"
   ]
  },
  {
   "cell_type": "code",
   "execution_count": 40,
   "metadata": {},
   "outputs": [
    {
     "data": {
      "text/plain": [
       "[6, 7, 5, 8, 9]"
      ]
     },
     "execution_count": 40,
     "metadata": {},
     "output_type": "execute_result"
    }
   ],
   "source": [
    "#forma incorreta de copiar lista\n",
    "V = [6, 7, 5, 8, 9]\n",
    "L = V\n",
    "L"
   ]
  },
  {
   "cell_type": "code",
   "execution_count": 41,
   "metadata": {},
   "outputs": [
    {
     "name": "stdout",
     "output_type": "stream",
     "text": [
      "True\n",
      "True\n",
      "[5, 7, 5, 8, 9]\n",
      "[5, 7, 5, 8, 9]\n"
     ]
    }
   ],
   "source": [
    "#confirmando que as listas são a mesma\n",
    "print(V==L)\n",
    "print(V is L)\n",
    "V[0] = 5\n",
    "print(V)\n",
    "print(L)"
   ]
  },
  {
   "cell_type": "code",
   "execution_count": 42,
   "metadata": {},
   "outputs": [
    {
     "name": "stdout",
     "output_type": "stream",
     "text": [
      "True\n",
      "False\n",
      "[81, 82, 83]\n",
      "[5, 82, 83]\n"
     ]
    }
   ],
   "source": [
    "#forma correta de copiar lista\n",
    "a = [81, 82, 83]\n",
    "b = a[:] #cria um clone com fatia\n",
    "print(a == b)\n",
    "print(a is b)\n",
    "b[0] = 5\n",
    "print(a)\n",
    "print(b)"
   ]
  },
  {
   "cell_type": "code",
   "execution_count": 43,
   "metadata": {},
   "outputs": [
    {
     "name": "stdout",
     "output_type": "stream",
     "text": [
      "['b', 'c']\n",
      "['a', 'b', 'c', 'd']\n",
      "['d', 'e', 'f']\n",
      "['a', 'b', 'c', 'd', 'e', 'f']\n"
     ]
    }
   ],
   "source": [
    "#\n",
    "uma_lista = ['a', 'b', 'c', 'd', 'e', 'f']\n",
    "\n",
    "#o print mostrará até o índice 2 por causa do intervalo fechado\n",
    "print(uma_lista[1:3])\n",
    "\n",
    "\n",
    "#o print mostrará até o índice 3 por causa do intervalo fechado\n",
    "print(uma_lista[:4])\n",
    "\n",
    "#esse print vai mostrar o número 3 em diante\n",
    "print(uma_lista[3:])\n",
    "\n",
    "\n",
    "print(uma_lista[:])"
   ]
  },
  {
   "cell_type": "code",
   "execution_count": 44,
   "metadata": {},
   "outputs": [
    {
     "ename": "IndexError",
     "evalue": "list index out of range",
     "output_type": "error",
     "traceback": [
      "\u001b[1;31m---------------------------------------------------------------------------\u001b[0m",
      "\u001b[1;31mIndexError\u001b[0m                                Traceback (most recent call last)",
      "Cell \u001b[1;32mIn[44], line 5\u001b[0m\n\u001b[0;32m      3\u001b[0m b \u001b[38;5;241m=\u001b[39m a[:]\n\u001b[0;32m      4\u001b[0m b[\u001b[38;5;241m0\u001b[39m] \u001b[38;5;241m=\u001b[39m \u001b[38;5;241m5\u001b[39m\n\u001b[1;32m----> 5\u001b[0m \u001b[38;5;28mprint\u001b[39m(\u001b[43ma\u001b[49m\u001b[43m[\u001b[49m\u001b[38;5;241;43m3\u001b[39;49m\u001b[43m]\u001b[49m)\n",
      "\u001b[1;31mIndexError\u001b[0m: list index out of range"
     ]
    }
   ],
   "source": [
    "#Esse código dá errado porque não existe índice 3\n",
    "a = [1, 2, 3]\n",
    "b = a[:]\n",
    "b[0] = 5\n",
    "print(a[3])"
   ]
  },
  {
   "cell_type": "markdown",
   "metadata": {},
   "source": [
    "Letra A"
   ]
  },
  {
   "cell_type": "code",
   "execution_count": null,
   "metadata": {},
   "outputs": [
    {
     "name": "stdout",
     "output_type": "stream",
     "text": [
      "[76, 92.3, 'oi', True, 4, 76, 'pitomba', 76]\n"
     ]
    }
   ],
   "source": [
    "#criando lista\n",
    "minhaLista = [76, 92.3, 'oi', True, 4, 76]\n",
    "\n",
    "#Criando uma nova lista com os valores extras\n",
    "minhaLista2 = ['pitomba', 76]\n",
    "\n",
    "#Adicionando a nova lista na primeira\n",
    "minhaLista += minhaLista2\n",
    "\n",
    "#Mostrando a lista ao usuário\n",
    "print(minhaLista)"
   ]
  },
  {
   "cell_type": "markdown",
   "metadata": {},
   "source": [
    "Letra B"
   ]
  },
  {
   "cell_type": "code",
   "execution_count": null,
   "metadata": {},
   "outputs": [
    {
     "name": "stdout",
     "output_type": "stream",
     "text": [
      "[76, 92.3, 'oi', 'Cibele', True, 4, 76, 'pitomba', 76]\n"
     ]
    }
   ],
   "source": [
    "#Criando lista\n",
    "minhaLista = [76, 92.3, 'oi', True, 4, 76, 'pitomba', 76]\n",
    "\n",
    "#fatiando a lista\n",
    "corte1 = minhaLista[:3]\n",
    "corte2 = minhaLista[3:]\n",
    "\n",
    "#criando a lista \"cibele\"\n",
    "nomeCibele = [\"Cibele\"]\n",
    "\n",
    "#somando as listas\n",
    "minhaLista = corte1 + nomeCibele + corte2 \n",
    "\n",
    "#Mostrando ao usuário\n",
    "print(minhaLista)"
   ]
  },
  {
   "cell_type": "markdown",
   "metadata": {},
   "source": [
    "Letra C"
   ]
  },
  {
   "cell_type": "code",
   "execution_count": null,
   "metadata": {},
   "outputs": [
    {
     "name": "stdout",
     "output_type": "stream",
     "text": [
      "[99, 76, 92.3, 'oi', 'Cibele', True, 4, 76, 'pitomba', 76]\n"
     ]
    }
   ],
   "source": [
    "#Criando lista\n",
    "minhaLista = [76, 92.3, 'oi', 'Cibele', True, 4, 76, 'pitomba', 76]\n",
    "\n",
    "#Criando lista com o valor 99\n",
    "numero99 = [99]\n",
    "\n",
    "#Fazendo uma cópia da lista\n",
    "copiaLista = minhaLista[:]\n",
    "\n",
    "#Concatenando listas\n",
    "minhaLista = numero99 + copiaLista\n",
    "\n",
    "#Mostrando ao usuário\n",
    "print(minhaLista)"
   ]
  },
  {
   "cell_type": "markdown",
   "metadata": {},
   "source": [
    "Letra D"
   ]
  },
  {
   "cell_type": "code",
   "execution_count": null,
   "metadata": {},
   "outputs": [
    {
     "name": "stdout",
     "output_type": "stream",
     "text": [
      "O \"oi\" está no índice 4\n"
     ]
    }
   ],
   "source": [
    "#criando lista\n",
    "minhaLista = [99, 99, 76, 92.3, 'oi', 'Cibele', True, 4, 76, 'pitomba', 76]\n",
    "\n",
    "#Criando as condições, caso o \"oi\" mude de posição\n",
    "if (minhaLista[0] == 'oi'):\n",
    "    print('O \"oi\" está no índice 0')\n",
    "elif (minhaLista[1] == 'oi'):\n",
    "    print('O \"oi\" está no índice 1')\n",
    "elif (minhaLista[2] == 'oi'):\n",
    "    print('O \"oi\" está no índice 2')\n",
    "elif (minhaLista[3] == 'oi'):\n",
    "    print('O \"oi\" está no índice 3')\n",
    "elif (minhaLista[4] == 'oi'):\n",
    "    print('O \"oi\" está no índice 4')\n",
    "elif (minhaLista[5] == 'oi'):\n",
    "    print('O \"oi\" está no índice 5')\n",
    "elif (minhaLista[6] == 'oi'):\n",
    "    print('O \"oi\" está no índice 6')\n",
    "elif (minhaLista[7] == 'oi'):\n",
    "    print('O \"oi\" está no índice 7')\n",
    "elif (minhaLista[8] == 'oi'):\n",
    "    print('O \"oi\" está no índice 8')\n",
    "elif (minhaLista[9] == 'oi'):\n",
    "    print('O \"oi\" está no índice 9')\n",
    "else:\n",
    "    print('O \"oi\" está no índice 10')\n",
    "\n"
   ]
  },
  {
   "cell_type": "markdown",
   "metadata": {},
   "source": [
    "Letra E"
   ]
  },
  {
   "cell_type": "code",
   "execution_count": null,
   "metadata": {},
   "outputs": [
    {
     "name": "stdout",
     "output_type": "stream",
     "text": [
      "[76, 92.3, 'oi', 4, 76]\n"
     ]
    }
   ],
   "source": [
    "#Criando Lista\n",
    "minhaLista = [76, 92.3, 'oi', True, 4, 76]\n",
    "\n",
    "#Fatiando sem o True\n",
    "parte1Lista = minhaLista[:3]\n",
    "parte2Lista = minhaLista[4:]\n",
    "\n",
    "#Concatenando as listas\n",
    "minhaLista = parte1Lista + parte2Lista\n",
    "\n",
    "#Mostrando ao usuário\n",
    "print(minhaLista)"
   ]
  },
  {
   "cell_type": "markdown",
   "metadata": {},
   "source": [
    "Mais práticas"
   ]
  },
  {
   "cell_type": "code",
   "execution_count": null,
   "metadata": {},
   "outputs": [
    {
     "name": "stdout",
     "output_type": "stream",
     "text": [
      "[4, 2, 8, 6, 5, 'cibele']\n"
     ]
    }
   ],
   "source": [
    "uma_lista = [4, 2, 8, 6, 5]\n",
    "uma_lista = uma_lista + ['cibele']\n",
    "print(uma_lista)"
   ]
  },
  {
   "cell_type": "markdown",
   "metadata": {},
   "source": [
    "Tuplas"
   ]
  },
  {
   "cell_type": "code",
   "execution_count": 46,
   "metadata": {},
   "outputs": [
    {
     "data": {
      "text/plain": [
       "(10, 20, 30)"
      ]
     },
     "execution_count": 46,
     "metadata": {},
     "output_type": "execute_result"
    }
   ],
   "source": [
    "#Tupla com parênteses\n",
    "\n",
    "tupla_numeros = (10, 20, 30)\n",
    "tupla_numeros"
   ]
  },
  {
   "cell_type": "code",
   "execution_count": 47,
   "metadata": {},
   "outputs": [
    {
     "data": {
      "text/plain": [
       "(10, 20, 30)"
      ]
     },
     "execution_count": 47,
     "metadata": {},
     "output_type": "execute_result"
    }
   ],
   "source": [
    "#Tupla sem parênteses\n",
    "\n",
    "tupla_nova = 10, 20, 30\n",
    "tupla_nova"
   ]
  },
  {
   "cell_type": "code",
   "execution_count": 2,
   "metadata": {},
   "outputs": [
    {
     "data": {
      "text/plain": [
       "(10,)"
      ]
     },
     "execution_count": 2,
     "metadata": {},
     "output_type": "execute_result"
    }
   ],
   "source": [
    "#Tupla com apenas um elemento\n",
    "\n",
    "tupla_elemento = 10,\n",
    "tupla_elemento"
   ]
  },
  {
   "cell_type": "code",
   "execution_count": 3,
   "metadata": {},
   "outputs": [
    {
     "data": {
      "text/plain": [
       "()"
      ]
     },
     "execution_count": 3,
     "metadata": {},
     "output_type": "execute_result"
    }
   ],
   "source": [
    "#Tupla vazia\n",
    "\n",
    "tupla_vazia = ()\n",
    "tupla_vazia"
   ]
  },
  {
   "cell_type": "code",
   "execution_count": 4,
   "metadata": {},
   "outputs": [
    {
     "data": {
      "text/plain": [
       "('T', 'e', 's', 't', 'e')"
      ]
     },
     "execution_count": 4,
     "metadata": {},
     "output_type": "execute_result"
    }
   ],
   "source": [
    "#Função tuple\n",
    "nova_tupla = tuple('Teste')\n",
    "nova_tupla"
   ]
  },
  {
   "cell_type": "code",
   "execution_count": 7,
   "metadata": {},
   "outputs": [
    {
     "name": "stdout",
     "output_type": "stream",
     "text": [
      "2\n",
      "0\n",
      "1\n"
     ]
    }
   ],
   "source": [
    "#Método de contagem em tuplas\n",
    "tupla_nomes = ('Marlene', 'Zezinho', 'Marlene', 'Cibele', 'Zuely')\n",
    "print(tupla_nomes.count('Marlene'))\n",
    "print(tupla_nomes.count('Suelly'))\n",
    "print(tupla_nomes.count('Zezinho'))"
   ]
  },
  {
   "cell_type": "code",
   "execution_count": 8,
   "metadata": {},
   "outputs": [
    {
     "name": "stdout",
     "output_type": "stream",
     "text": [
      "3\n"
     ]
    }
   ],
   "source": [
    "#Praticando\n",
    "tupla_teste = (1, 2, 2, 3, 4, 4, 4, 5)\n",
    "print(tupla_teste.count(4))"
   ]
  }
 ],
 "metadata": {
  "kernelspec": {
   "display_name": "Python 3",
   "language": "python",
   "name": "python3"
  },
  "language_info": {
   "codemirror_mode": {
    "name": "ipython",
    "version": 3
   },
   "file_extension": ".py",
   "mimetype": "text/x-python",
   "name": "python",
   "nbconvert_exporter": "python",
   "pygments_lexer": "ipython3",
   "version": "3.11.9"
  }
 },
 "nbformat": 4,
 "nbformat_minor": 2
}
