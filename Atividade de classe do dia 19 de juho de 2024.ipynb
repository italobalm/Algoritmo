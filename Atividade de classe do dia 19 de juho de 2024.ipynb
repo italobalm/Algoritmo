{
 "cells": [
  {
   "cell_type": "markdown",
   "metadata": {},
   "source": [
    "Programação orientada a objeto (POO)"
   ]
  },
  {
   "cell_type": "code",
   "execution_count": 8,
   "metadata": {},
   "outputs": [],
   "source": [
    "#Criando uma classe\n",
    "class Animal():\n",
    "    #Estruturação de uma classe\n",
    "    def __init__(self, name, weight, color):\n",
    "        #atributos (ou variáveis)\n",
    "        self.nome = name\n",
    "        self.peso = weight\n",
    "        self.corDoPelo = color\n",
    "\n",
    "    #Elaborando função que irá retornar os dados\n",
    "    def imprimirDados(self):\n",
    "        return(\"Nome: %s \\nPeso: %s\" %(self.nome, self.peso))\n",
    "    \n",
    "    def latir(self, barulho):\n",
    "        print(barulho)"
   ]
  },
  {
   "cell_type": "code",
   "execution_count": 12,
   "metadata": {},
   "outputs": [
    {
     "name": "stdout",
     "output_type": "stream",
     "text": [
      "Nome da música: Happy \n",
      "Número da faixa: 22\n"
     ]
    }
   ],
   "source": [
    "#CÓDIGO TESTE\n",
    "\n",
    "#Criando classe\n",
    "class Musica():\n",
    "    \n",
    "    #Elaborando função (sempre utilizar o __init__)\n",
    "    def __init__ (self, nome, faixa):\n",
    "        self.nome = nome\n",
    "        self.faixa = faixa\n",
    "        \n",
    "        #Mensagem que aparecerá para o usuário\n",
    "        print(\"Nome da música: %s \\nNúmero da faixa: %d\" %(self.nome, self.faixa))\n",
    "    \n",
    "#Definindo valores do self\n",
    "musica2 = Musica('Happy', 22)"
   ]
  },
  {
   "cell_type": "code",
   "execution_count": null,
   "metadata": {},
   "outputs": [],
   "source": [
    "#Instanciando um objeto cachorro\n",
    "caozinho = Animal(\"Marlene\", 7.9, \"Caramelo\")\n",
    "gato = Animal(\"Cibele\", 4.5, \"Cinza\")\n",
    "\n",
    "#Chamando o método do objeto criado\n",
    "print(caozinho.imprimirDados())\n",
    "caozinho.latir(\"Au, Au!\")\n",
    "\n",
    "print(gato.imprimirDados())\n",
    "gato.latir(\"Miau!\")"
   ]
  },
  {
   "cell_type": "code",
   "execution_count": 9,
   "metadata": {},
   "outputs": [],
   "source": [
    "#Criando classe chamada livro\n",
    "\n",
    "class Livro():\n",
    "    \n",
    "    # (self) é uma referência a cada atributo de um objeto criado a partir dessa classe\n",
    "    def __init__ (self, titulo, isbn):\n",
    "        self.titulo = \"O Monge e o Executivo\"\n",
    "        self.isbn = 9988888\n",
    "        print(\"Construtor chamado para criar um objeto desta classe\")\n",
    "\n",
    "#Métodos são funções, que recebem como parâmetros atributos do objeto criado\n",
    "def imprime(self, titulo, isbn):\n",
    "    print(\"Foi criado o livro %s e ISBN %d\" %(self.titulo, self.isbn))"
   ]
  },
  {
   "cell_type": "code",
   "execution_count": 10,
   "metadata": {},
   "outputs": [
    {
     "name": "stdout",
     "output_type": "stream",
     "text": [
      "Construtor chamado para criar um objeto desta classe\n"
     ]
    }
   ],
   "source": [
    "#Criando o  objeto Livro2 que é uma instância da classe Livro\n",
    "Livro2 = Livro(\"A Menina que Roubava Livros\", 77886611)\n"
   ]
  }
 ],
 "metadata": {
  "kernelspec": {
   "display_name": "Python 3",
   "language": "python",
   "name": "python3"
  },
  "language_info": {
   "codemirror_mode": {
    "name": "ipython",
    "version": 3
   },
   "file_extension": ".py",
   "mimetype": "text/x-python",
   "name": "python",
   "nbconvert_exporter": "python",
   "pygments_lexer": "ipython3",
   "version": "3.12.3"
  }
 },
 "nbformat": 4,
 "nbformat_minor": 2
}
