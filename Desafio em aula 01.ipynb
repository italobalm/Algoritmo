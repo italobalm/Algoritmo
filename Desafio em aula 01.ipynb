{
 "cells": [
  {
   "cell_type": "code",
   "execution_count": 3,
   "metadata": {},
   "outputs": [
    {
     "name": "stdout",
     "output_type": "stream",
     "text": [
      "O imposto do seu carro será de  200.0\n"
     ]
    }
   ],
   "source": [
    "#Solicitando os dados do carro\n",
    "anoDoCarro = int(input('Digite o ano do seu carro: '))\n",
    "precoDoCarro = float(input('Insira o valor do seu carro: '))\n",
    "\n",
    "#Declarando variável de imposto\n",
    "imposto = 0\n",
    "\n",
    "#Calculando imposto\n",
    "if anoDoCarro < 1990:\n",
    "    imposto = precoDoCarro * 0.015\n",
    "else:\n",
    "    imposto = precoDoCarro * 0.01 \n",
    "\n",
    "#Mostrando ao usuário\n",
    "\n",
    "print('O imposto do seu carro será de ', imposto)"
   ]
  },
  {
   "cell_type": "code",
   "execution_count": 17,
   "metadata": {},
   "outputs": [
    {
     "name": "stdout",
     "output_type": "stream",
     "text": [
      "Seu salário antigo era R$  100.0 com o aumento de R$  30.0 \n",
      " seu novo salário será R$  130.0\n"
     ]
    }
   ],
   "source": [
    "#Solicitando os dados do funcionário\n",
    "salario = float(input('Insira o seu salário: '))\n",
    "cargo = str(input('Digite o seu cargo utilizando letras maiúsculas: '))\n",
    "\n",
    "#calculando aumento do salário\n",
    "if cargo == 'GERENTE':\n",
    "    aumento = (10/100) * salario\n",
    "    novoSalario = aumento + salario\n",
    "   \n",
    "elif cargo == 'ENGENHEIRO' or cargo == 'ENGENHEIRA':\n",
    "    aumento = (20/100) * salario\n",
    "    novoSalario = aumento + salario\n",
    "   \n",
    "elif cargo == 'TÉCNICO' or cargo == 'TÉCNICA':\n",
    "    aumento = (30/100) * salario\n",
    "    novoSalario = aumento + salario\n",
    "\n",
    "else:\n",
    "    aumento = (40/100) * salario\n",
    "    novoSalario = aumento + salario\n",
    "\n",
    "#Mostrando o novo salário ao \n",
    "\n",
    "print('Seu salário antigo era R$ ', salario, 'com o aumento de R$ ', aumento, '\\n seu novo salário será R$ ', novoSalario)\n"
   ]
  }
 ],
 "metadata": {
  "kernelspec": {
   "display_name": "Python 3",
   "language": "python",
   "name": "python3"
  },
  "language_info": {
   "codemirror_mode": {
    "name": "ipython",
    "version": 3
   },
   "file_extension": ".py",
   "mimetype": "text/x-python",
   "name": "python",
   "nbconvert_exporter": "python",
   "pygments_lexer": "ipython3",
   "version": "3.11.9"
  }
 },
 "nbformat": 4,
 "nbformat_minor": 2
}
