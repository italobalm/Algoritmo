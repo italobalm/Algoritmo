{
 "cells": [
  {
   "cell_type": "markdown",
   "metadata": {},
   "source": [
    "1. Faça um programa que verifique se uma letra digitada é vogal ou consoante."
   ]
  },
  {
   "cell_type": "code",
   "execution_count": 5,
   "metadata": {},
   "outputs": [
    {
     "name": "stdout",
     "output_type": "stream",
     "text": [
      "A letra digitada é uma vogal!\n"
     ]
    }
   ],
   "source": [
    "#Solicitando uma letra\n",
    "letra = str(input('Digite uma letra: '))\n",
    "vogais = ['A', 'a', 'E', 'e', 'I', 'i', 'O', 'o', 'U', 'u']\n",
    "\n",
    "#Verificando se a letra digitada está dentro da lista\n",
    "if letra in vogais:\n",
    "    print('A letra digitada é uma vogal!')\n",
    "else:\n",
    "    print('A letra digitada é uma consoante!')"
   ]
  },
  {
   "cell_type": "markdown",
   "metadata": {},
   "source": [
    "2. Faça um programa que pergunte o preço de três produtos e informe qual produto você deve comprar, sabendo que a decisão é sempre pelo mais barato."
   ]
  },
  {
   "cell_type": "code",
   "execution_count": 6,
   "metadata": {},
   "outputs": [
    {
     "name": "stdout",
     "output_type": "stream",
     "text": [
      "A melhor opção para você é o produto  pizza\n"
     ]
    }
   ],
   "source": [
    "#Criando listas para os produtos e valores\n",
    "produtos = ['', '', '']\n",
    "valores = ['', '', '']\n",
    "\n",
    "#Solicitando a entrada de produtos e valores\n",
    "produtos[0] = str(input('Insira o nome do primeiro produto: '))\n",
    "valores[0] = float(input('Insira o valor do primeiro produto'))\n",
    "\n",
    "produtos[1] = str(input('Insira o nome do segundo produto: '))\n",
    "valores[1] = float(input('Insira o valor do segundo produto'))\n",
    "\n",
    "produtos[2] = str(input('Insira o nome do terceiro produto: '))\n",
    "valores[2] = float(input('Insira o valor do terceiro produto'))\n",
    "\n",
    "#Verificando o melhor produto (mais barato)\n",
    "if valores[0] < valores[1] and valores[0] < valores[2]:\n",
    "    melhorProduto = produtos[0]\n",
    "elif valores[1] < valores[0] and valores[1] < valores[2]:\n",
    "    melhorProduto = produtos[1]\n",
    "else:\n",
    "    melhorProduto = produtos[2]\n",
    "\n",
    "#Mostrando o melhor produto\n",
    "print('A melhor opção para você é o produto ', melhorProduto)\n",
    "    "
   ]
  },
  {
   "cell_type": "markdown",
   "metadata": {},
   "source": [
    "3. Faça um programa que leia três números e mostre-os em ordem decrescente."
   ]
  },
  {
   "cell_type": "code",
   "execution_count": 3,
   "metadata": {},
   "outputs": [
    {
     "name": "stdout",
     "output_type": "stream",
     "text": [
      "4.0 3.0 2.0\n"
     ]
    }
   ],
   "source": [
    "#Criando uma lista para os números\n",
    "numero=[0, 0, 0]\n",
    "\n",
    "#Solicitando os números\n",
    "numero[0] = float(input('Digite o primeiro valor: '))\n",
    "numero[1] = float(input('Digite o segundo valor'))\n",
    "numero[2] = float(input('Digite o terceiro valor'))\n",
    "\n",
    "#Analisando a posição do primeiro valor\n",
    "if numero[0] > numero[1] and numero[0] > numero[2]:\n",
    "    maiorNumero = numero[0]\n",
    "elif numero[0] > numero[1] and numero[0] < numero[2]:\n",
    "    numeroDoMeio = numero[0]\n",
    "elif numero[0] < numero[1] and numero[0] > numero[2]:\n",
    "    numeroDoMeio = numero[0]\n",
    "else:\n",
    "    menorNumero = numero[0]\n",
    "\n",
    "#Analisando a posição do segundo valor\n",
    "if numero[1] > numero[0] and numero[1] > numero[2]:\n",
    "    maiorNumero = numero[1]\n",
    "elif numero[1] > numero[0] and numero[1] < numero[2]:\n",
    "    numeroDoMeio = numero[1]\n",
    "elif numero[1] < numero[0] and numero[1] > numero[2]:\n",
    "    numeroDoMeio = numero[1]\n",
    "else:\n",
    "    menorNumero = numero[1]\n",
    "\n",
    "#Analisando a posição do terceiro valor\n",
    "if numero[2] > numero[0] and numero[2] > numero[1]:\n",
    "    maiorNumero = numero[2]\n",
    "elif numero[2] > numero[0] and numero[2] < numero[1]:\n",
    "    numeroDoMeio = numero[2]\n",
    "elif numero[2] < numero[0] and numero[2] > numero[1]:\n",
    "    numeroDoMeio = numero[2]\n",
    "else:\n",
    "    menorNumero = numero[2]\n",
    "\n",
    "#Mostrando em ordem decrescente\n",
    "print(maiorNumero, numeroDoMeio, menorNumero)\n",
    "\n"
   ]
  },
  {
   "cell_type": "markdown",
   "metadata": {},
   "source": [
    "4. Faça um programa que pergunte em que turno você estuda. Peça para digitar M-matutino ou V-Vespertino ou N-Noturno. Imprima a mensagem \"Bom dia!\", \"Boa tarde!\" ou \"Boa Noite!\" ou \"Valor inválido!\", conforme o caso."
   ]
  },
  {
   "cell_type": "code",
   "execution_count": 4,
   "metadata": {},
   "outputs": [
    {
     "name": "stdout",
     "output_type": "stream",
     "text": [
      "Bom dia!\n"
     ]
    }
   ],
   "source": [
    "#Perguntando o turno de estudo\n",
    "turno = str(input('Insira em qual turno você estuda:  M (Matutino), V (Vespertino) ou N (Noturno)'))\n",
    "\n",
    "#Exibindo a mensagem de acordo com o turno inserido\n",
    "if turno == 'M' or turno == 'm':\n",
    "    print('Bom dia!')\n",
    "elif turno == 'V' or turno == 'v':\n",
    "    print('Boa tarde!')\n",
    "elif turno == 'N' or turno == 'n':\n",
    "    print('Boa noite!')\n",
    "else:\n",
    "    print('Valor inválido!')"
   ]
  },
  {
   "cell_type": "markdown",
   "metadata": {},
   "source": [
    "5. Faça um programa que leia um número e exiba o dia correspondente da semana. (1- Domingo, 2- Segunda, etc). Se for digitado outro valor deve retornar uma mensagem informando valor inválido."
   ]
  },
  {
   "cell_type": "code",
   "execution_count": 16,
   "metadata": {},
   "outputs": [
    {
     "name": "stdout",
     "output_type": "stream",
     "text": [
      "Valor inválido!\n"
     ]
    }
   ],
   "source": [
    "#Solicitando o dia da semana em número inteiro\n",
    "diaDaSemana = int(input('Digite um número para verificar o dia da semana correspondente: '))\n",
    "\n",
    "#Criando uma lista com os dias da semana\n",
    "dias = ['Domingo', 'Segunda', 'Terça', 'Quarta', 'Quinta', 'Sexta', 'Sábado']\n",
    "\n",
    "#Criando condições para relacionar o número digitado com o dia da semana\n",
    "if diaDaSemana == 1:\n",
    "    print(dias[0])\n",
    "elif diaDaSemana == 2:\n",
    "    print(dias[1])\n",
    "elif diaDaSemana == 3:\n",
    "    print(dias[2])\n",
    "elif diaDaSemana == 4:\n",
    "    print(dias[3])\n",
    "elif diaDaSemana == 5:\n",
    "    print(dias[4])\n",
    "elif diaDaSemana == 6:\n",
    "    print(dias[5])\n",
    "elif diaDaSemana == 7:\n",
    "    print(dias[6])\n",
    "else:\n",
    "    print('Valor inválido!')\n",
    "\n"
   ]
  },
  {
   "cell_type": "markdown",
   "metadata": {},
   "source": [
    "5. Faça um programa que lê as duas parciais obtidas por um aluno numa disiciplina ao longo de um semestre, e calcule a sua média. A atribuição de conceitos obedece às regras:\n",
    "\n",
    "Média de Aproveitamento:\n",
    "Entre 9.0 e 10.0          Conceito: A\n",
    "Entre 7.5 e 9.0           Conceito: B\n",
    "Entre 6.0 e 7.5           Conceito: C\n",
    "Entre 4.0 e 6.0           Conceito: D\n",
    "Entre 4.0 e zero          Conceito: E\n",
    "\n",
    "O programa deve mostrar na tela as notas, a média, o conceito correspondente e a mensagem \"APROVADO\" se o conceito for A, B ou C ou \"REPROVADO\" se o conceito for D ou E."
   ]
  },
  {
   "cell_type": "code",
   "execution_count": 38,
   "metadata": {},
   "outputs": [
    {
     "name": "stdout",
     "output_type": "stream",
     "text": [
      " Primeira nota:  1.0 \n",
      " Segunda nota:  1.0 \n",
      " Média:  1.0 \n",
      " Conceito:  A \n",
      " Resultado:  ['Aprovado', 'Reprovado']\n"
     ]
    }
   ],
   "source": [
    "nota1 = float(input('Digite a primeira parcial: '))\n",
    "nota2 = float(input('Digite a segunda parcial: '))\n",
    "media = (nota1 + nota2)/2\n",
    "conceitos = ['A', 'B', 'C', 'D', 'E']\n",
    "resultado = ['Aprovado', 'Reprovado']\n",
    "\n",
    "if media <= 9.0:\n",
    "    conceitos = conceitos[0]\n",
    "    resultado == resultado[0]\n",
    "elif media >= 7.5 and media < 9.0:\n",
    "    conceitos == conceitos[1]\n",
    "    resultado == resultado[0]\n",
    "elif media >= 6.0 and media < 7.5:\n",
    "    conceitos == conceitos[2]\n",
    "    resultado == resultado[0]\n",
    "elif media >= 4.0 and media < 6.0:\n",
    "    conceitos == conceitos[3]\n",
    "    resultado == resultado[1]\n",
    "else:\n",
    "    conceitos == conceitos[4]\n",
    "    resultado == resultado[1]\n",
    "\n",
    "print(' Primeira nota: ', nota1, '\\n' ' Segunda nota: ', nota2, '\\n', 'Média: ', media, '\\n', 'Conceito: ', conceitos, '\\n', 'Resultado: ', resultado)"
   ]
  }
 ],
 "metadata": {
  "kernelspec": {
   "display_name": "Python 3",
   "language": "python",
   "name": "python3"
  },
  "language_info": {
   "codemirror_mode": {
    "name": "ipython",
    "version": 3
   },
   "file_extension": ".py",
   "mimetype": "text/x-python",
   "name": "python",
   "nbconvert_exporter": "python",
   "pygments_lexer": "ipython3",
   "version": "3.12.1"
  }
 },
 "nbformat": 4,
 "nbformat_minor": 2
}
