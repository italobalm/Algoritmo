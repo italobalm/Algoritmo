{
 "cells": [
  {
   "cell_type": "markdown",
   "metadata": {},
   "source": [
    "1. Faça um programa que verifique se uma letra digitada é vogal ou consoante."
   ]
  },
  {
   "cell_type": "code",
   "execution_count": 3,
   "metadata": {},
   "outputs": [
    {
     "name": "stdout",
     "output_type": "stream",
     "text": [
      "A letra digitada é uma vogal!\n"
     ]
    }
   ],
   "source": [
    "#Solicitando uma letra\n",
    "letra = str(input('Digite uma letra: '))\n",
    "vogais = ['A', 'a', 'E', 'e', 'I', 'i', 'O', 'o', 'U', 'u']\n",
    "\n",
    "#Verificando se a letra digitada está dentro da lista\n",
    "if letra in vogais:\n",
    "    print('A letra digitada é uma vogal!')\n",
    "else:\n",
    "    print('A letra digitada é uma consoante!')"
   ]
  },
  {
   "cell_type": "markdown",
   "metadata": {},
   "source": [
    "2. Faça um programa que pergunte o preço de três produtos e informe qual produto você deve comprar, sabendo que a decisão é sempre pelo mais barato."
   ]
  },
  {
   "cell_type": "code",
   "execution_count": 20,
   "metadata": {},
   "outputs": [
    {
     "name": "stdout",
     "output_type": "stream",
     "text": [
      "A melhor opção para você é o produto  c\n"
     ]
    }
   ],
   "source": [
    "#Criando listas para os produtos e valores\n",
    "produtos = ['', '', '']\n",
    "valores = ['', '', '']\n",
    "\n",
    "#Solicitando a entrada de produtos e valores\n",
    "produtos[0] = str(input('Insira o nome do primeiro produto: '))\n",
    "valores[0] = float(input('Insira o valor do primeiro produto'))\n",
    "\n",
    "produtos[1] = str(input('Insira o nome do segundo produto: '))\n",
    "valores[1] = float(input('Insira o valor do segundo produto'))\n",
    "\n",
    "produtos[2] = str(input('Insira o nome do terceiro produto: '))\n",
    "valores[2] = float(input('Insira o valor do terceiro produto'))\n",
    "\n",
    "#Verificando o melhor produto (mais barato)\n",
    "if valores[0] < valores[1] and valores[0] < valores[2]:\n",
    "    melhorProduto = produtos[0]\n",
    "elif valores[1] < valores[0] and valores[1] < valores[2]:\n",
    "    melhorProduto = produtos[1]\n",
    "else:\n",
    "    melhorProduto = produtos[2]\n",
    "\n",
    "#Mostrando o melhor produto\n",
    "print('A melhor opção para você é o produto ', melhorProduto)\n",
    "    "
   ]
  },
  {
   "cell_type": "markdown",
   "metadata": {},
   "source": [
    "3. Faça um programa que leia três números e mostre-os em ordem decrescente."
   ]
  },
  {
   "cell_type": "code",
   "execution_count": 31,
   "metadata": {},
   "outputs": [
    {
     "name": "stdout",
     "output_type": "stream",
     "text": [
      "100.0 76.0 3.0\n"
     ]
    }
   ],
   "source": [
    "#Criando uma lista para os números\n",
    "numero=[0, 0, 0]\n",
    "\n",
    "#Solicitando os números\n",
    "numero[0] = float(input('Digite o primeiro valor: '))\n",
    "numero[1] = float(input('Digite o segundo valor'))\n",
    "numero[2] = float(input('Digite o terceiro valor'))\n",
    "\n",
    "#Analisando a posição do primeiro valor\n",
    "if numero[0] > numero[1] and numero[0] > numero[2]:\n",
    "    maiorNumero = numero[0]\n",
    "elif numero[0] > numero[1] and numero[0] < numero[2]:\n",
    "    numeroDoMeio = numero[0]\n",
    "elif numero[0] < numero[1] and numero[0] > numero[2]:\n",
    "    numeroDoMeio = numero[0]\n",
    "else:\n",
    "    menorNumero = numero[0]\n",
    "\n",
    "#Analisando a posição do segundo valor\n",
    "if numero[1] > numero[0] and numero[1] > numero[2]:\n",
    "    maiorNumero = numero[1]\n",
    "elif numero[1] > numero[0] and numero[1] < numero[2]:\n",
    "    numeroDoMeio = numero[1]\n",
    "elif numero[1] < numero[0] and numero[1] > numero[2]:\n",
    "    numeroDoMeio = numero[1]\n",
    "else:\n",
    "    menorNumero = numero[1]\n",
    "\n",
    "#Analisando a posição do terceiro valor\n",
    "if numero[2] > numero[0] and numero[2] > numero[1]:\n",
    "    maiorNumero = numero[2]\n",
    "elif numero[2] > numero[0] and numero[2] < numero[1]:\n",
    "    numeroDoMeio = numero[2]\n",
    "elif numero[2] < numero[0] and numero[2] > numero[1]:\n",
    "    numeroDoMeio = numero[2]\n",
    "else:\n",
    "    menorNumero = numero[2]\n",
    "\n",
    "#Mostrando em ordem decrescente\n",
    "print(maiorNumero, numeroDoMeio, menorNumero)\n",
    "\n"
   ]
  },
  {
   "cell_type": "markdown",
   "metadata": {},
   "source": [
    "4. Faça um programa que pergunte em que turno você estuda. Peça para digitar M-matutino ou V-Vespertino ou N-Noturno. Imprima a mensagem \"Bom dia!\", \"Boa tarde!\" ou \"Boa Noite!\" ou \"Valor inválido!\", conforme o caso."
   ]
  },
  {
   "cell_type": "code",
   "execution_count": 38,
   "metadata": {},
   "outputs": [
    {
     "name": "stdout",
     "output_type": "stream",
     "text": [
      "Boa tarde!\n"
     ]
    }
   ],
   "source": [
    "#Perguntando o turno de estudo\n",
    "turno = str(input('Insira em qual turno você estuda:  M (Matutino), V (Vespertino) ou N (Noturno)'))\n",
    "\n",
    "#Exibindo a mensagem de acordo com o turno inserido\n",
    "if turno == 'M' or turno == 'm':\n",
    "    print('Bom dia!')\n",
    "elif turno == 'V' or turno == 'v':\n",
    "    print('Boa tarde!')\n",
    "elif turno == 'N' or turno == 'n':\n",
    "    print('Boa noite!')\n",
    "else:\n",
    "    print('Valor inválido!')"
   ]
  }
 ],
 "metadata": {
  "kernelspec": {
   "display_name": "Python 3",
   "language": "python",
   "name": "python3"
  },
  "language_info": {
   "codemirror_mode": {
    "name": "ipython",
    "version": 3
   },
   "file_extension": ".py",
   "mimetype": "text/x-python",
   "name": "python",
   "nbconvert_exporter": "python",
   "pygments_lexer": "ipython3",
   "version": "3.12.2"
  }
 },
 "nbformat": 4,
 "nbformat_minor": 2
}
