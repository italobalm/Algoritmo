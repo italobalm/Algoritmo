{
  "nbformat": 4,
  "nbformat_minor": 0,
  "metadata": {
    "colab": {
      "provenance": [],
      "collapsed_sections": [
        "_U3ts9Fr-zGM",
        "ophDYvup-gUM",
        "MMqXEfDN_U4z",
        "lIU4pbwr_1pF",
        "AXibMSnyAAF9"
      ],
      "include_colab_link": true
    },
    "kernelspec": {
      "name": "python3",
      "display_name": "Python 3"
    },
    "language_info": {
      "name": "python"
    }
  },
  "cells": [
    {
      "cell_type": "markdown",
      "metadata": {
        "id": "view-in-github",
        "colab_type": "text"
      },
      "source": [
        "<a href=\"https://colab.research.google.com/github/italobalm/Algoritmo/blob/main/Quiz1_Nivelamento.ipynb\" target=\"_parent\"><img src=\"https://colab.research.google.com/assets/colab-badge.svg\" alt=\"Open In Colab\"/></a>"
      ]
    },
    {
      "cell_type": "markdown",
      "source": [
        "###1) Qual é o valor impresso ao final da seguinte sequência de comandos?\n",
        "\n",
        "<pre>dia = “quinta-feira”\n",
        "dia = 32.5\n",
        "print(dia)\n",
        "dia = 19\n",
        " </pre>\n",
        "\n",
        "a)   Nada é impresso, ocorre um erro de execução;\n",
        "\n",
        "b)   quinta-feira;\n",
        "\n",
        "**c)   32.5;**\n",
        "\n",
        "d)   19.\n",
        "\n",
        "\n",
        "**LETRA C**"
      ],
      "metadata": {
        "id": "k7MNQZZypDtS"
      }
    },
    {
      "cell_type": "markdown",
      "source": [
        "###Resposta"
      ],
      "metadata": {
        "id": "_U3ts9Fr-zGM"
      }
    },
    {
      "cell_type": "code",
      "source": [
        "# c)\n",
        "dia = \"quinta-feira\"\n",
        "dia = 32.5\n",
        "print(dia)\n",
        "dia = 19"
      ],
      "metadata": {
        "colab": {
          "base_uri": "https://localhost:8080/"
        },
        "id": "WpKlhG3L-0fs",
        "outputId": "cfb2e6b2-5d49-4e54-c3f6-598febef4c14"
      },
      "execution_count": null,
      "outputs": [
        {
          "output_type": "stream",
          "name": "stdout",
          "text": [
            "32.5\n"
          ]
        }
      ]
    },
    {
      "cell_type": "markdown",
      "source": [
        "###2) Verdadeiro ou falso: o seguinte nome é legal para uma variável em Python: Uma_boa_nota_é_A+"
      ],
      "metadata": {
        "id": "M8AmZYosqciX"
      }
    },
    {
      "cell_type": "markdown",
      "source": [
        "**Não. Pois o ideal é que as variáveis iniciem com letra minúscula**"
      ],
      "metadata": {
        "id": "3UoXDvUOgSf_"
      }
    },
    {
      "cell_type": "markdown",
      "source": [
        "###3) O que imprime o seguinte comando?\n",
        "\n",
        "<pre> print((18 // 4), (18 % 4), (18/4)) </pre>\n",
        "a) 4.5, 2, 4;\n",
        "\n",
        "b) 5, 2, 4.5;\n",
        "\n",
        "**c) 4, 2, 4.5 ;**\n",
        "\n",
        "d) 5, 4.5, 2.\n",
        "\n",
        "**LETRA C**"
      ],
      "metadata": {
        "id": "mIHpHGLOrEeF"
      }
    },
    {
      "cell_type": "markdown",
      "source": [
        "### Resposta"
      ],
      "metadata": {
        "id": "ophDYvup-gUM"
      }
    },
    {
      "cell_type": "code",
      "source": [
        " #c)\n",
        "print((18 // 4), (18 % 4), (18/4))"
      ],
      "metadata": {
        "colab": {
          "base_uri": "https://localhost:8080/"
        },
        "id": "avgIQ1uo-ZaQ",
        "outputId": "542edd8f-a30a-435e-8fb3-bba63105b261"
      },
      "execution_count": null,
      "outputs": [
        {
          "output_type": "stream",
          "name": "stdout",
          "text": [
            "4 2 4.5\n"
          ]
        }
      ]
    },
    {
      "cell_type": "markdown",
      "source": [
        "###4) O que é impresso pelo seguinte comando?\n",
        "\n",
        "<pre>n = input(\"Por favor, entre com sua idade:\") # usuário entra com 18\n",
        "print (type(n)) </pre>\n",
        "\n",
        "**a) <class 'str'>;**\n",
        "\n",
        "b) <class 'int'>;\n",
        "\n",
        "c) <class 18>;\n",
        "\n",
        "d) 18\n",
        "\n",
        "**LETRA A**"
      ],
      "metadata": {
        "id": "MwoW0oXDsYp7"
      }
    },
    {
      "cell_type": "markdown",
      "source": [
        "###Resposta"
      ],
      "metadata": {
        "id": "MMqXEfDN_U4z"
      }
    },
    {
      "cell_type": "code",
      "source": [
        "# a)\n",
        "n = input(\"Por favor, entre com sua idade: \")\n",
        "# usuário entra com 18\n",
        "print(type(n))"
      ],
      "metadata": {
        "colab": {
          "base_uri": "https://localhost:8080/"
        },
        "id": "Wu64kVv3_WWZ",
        "outputId": "a4343ce1-e23b-4e73-80b0-f3967fce0160"
      },
      "execution_count": null,
      "outputs": [
        {
          "output_type": "stream",
          "name": "stdout",
          "text": [
            "Por favor, entre com sua idade: 18\n",
            "<class 'str'>\n"
          ]
        }
      ]
    },
    {
      "cell_type": "markdown",
      "source": [
        "###5) Qual é o valor das expressões a seguir?\n",
        "\n",
        "<pre>x = 16 - 2 * 5 // 3 + 1\n",
        "y = 2 ** 2 ** 3 * 3\n",
        "print(x, y)</pre>\n",
        "\n",
        "**a) 14, 768;**\n",
        "\n",
        "b) 13, 128;\n",
        "\n",
        "c) 14, 192;\n",
        "\n",
        "d) 13.667, 256.\n",
        "\n",
        "**LETRA A**"
      ],
      "metadata": {
        "id": "6xjRaqzjsnaq"
      }
    },
    {
      "cell_type": "markdown",
      "source": [
        "###Resposta"
      ],
      "metadata": {
        "id": "lIU4pbwr_1pF"
      }
    },
    {
      "cell_type": "code",
      "source": [
        "#a)\n",
        "x = 16 - 2 * 5 // 3 + 1\n",
        "y = 2 ** 2 ** 3 * 3\n",
        "print(x, y)"
      ],
      "metadata": {
        "colab": {
          "base_uri": "https://localhost:8080/"
        },
        "id": "3YiXJl4Q_3C2",
        "outputId": "0fa82d21-c354-4c95-9392-22e33c18534d"
      },
      "execution_count": null,
      "outputs": [
        {
          "output_type": "stream",
          "name": "stdout",
          "text": [
            "14 768\n"
          ]
        }
      ]
    },
    {
      "cell_type": "markdown",
      "source": [
        "### 6)  O que é impresso pelo comando a seguir?:\n",
        "\n",
        "\n",
        "<pre>x = 12\n",
        "x -= 1\n",
        "print(x) </pre>\n",
        "a) 12;\n",
        "\n",
        "b) -1;\n",
        "\n",
        "**c) 11;**\n",
        "\n",
        "d) Nada. Ocorre um erro pois x não pode ser igual a x - 1.\n",
        "\n",
        "**LETRA C**"
      ],
      "metadata": {
        "id": "yJYDHsLxt2uX"
      }
    },
    {
      "cell_type": "markdown",
      "source": [
        "### Resposta"
      ],
      "metadata": {
        "id": "AXibMSnyAAF9"
      }
    },
    {
      "cell_type": "code",
      "source": [
        "#c)\n",
        "x = 12\n",
        "x -= 1\n",
        "print(x)"
      ],
      "metadata": {
        "colab": {
          "base_uri": "https://localhost:8080/"
        },
        "id": "OL2aCaV1ABib",
        "outputId": "f1c06ffc-59c6-48bf-9eff-4f744800e06c"
      },
      "execution_count": null,
      "outputs": [
        {
          "output_type": "stream",
          "name": "stdout",
          "text": [
            "11\n"
          ]
        }
      ]
    }
  ]
}