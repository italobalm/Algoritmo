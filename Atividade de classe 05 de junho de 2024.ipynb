{
 "cells": [
  {
   "cell_type": "markdown",
   "metadata": {},
   "source": [
    "Functions and Methods\n",
    "\n",
    "def - define a função.\n",
    "\n",
    "range - sempre que há um paranteses colado na palavra, é uma função.\n",
    "\n",
    "range é uma função de contagem.\n",
    "\n",
    "variavel local - depende de uma função para existir\n",
    "\n",
    "variavel global - existe mesmo se nao estiver dentro de uma função."
   ]
  },
  {
   "cell_type": "code",
   "execution_count": 1,
   "metadata": {},
   "outputs": [
    {
     "name": "stdout",
     "output_type": "stream",
     "text": [
      "Número  1\n",
      "Número  2\n",
      "Número  3\n",
      "Número  4\n",
      "Número  5\n"
     ]
    }
   ],
   "source": [
    "#Criando uma função para contar de 1 a 5\n",
    "def funcaoleitura():\n",
    "    for num in [1, 2, 3, 4, 5]:\n",
    "        print('Número ', num)\n",
    "\n",
    "#Chamando a função\n",
    "funcaoleitura()"
   ]
  },
  {
   "cell_type": "code",
   "execution_count": 3,
   "metadata": {},
   "outputs": [
    {
     "name": "stdout",
     "output_type": "stream",
     "text": [
      "O primeiro numero é 2\n",
      "O segundo numero é 3\n",
      "A soma dos dois numeros é 5\n"
     ]
    }
   ],
   "source": [
    "#Criando função para somar dois numeros\n",
    "def somaNum (number1, number2): #number1 e number2 são os parâmetros\n",
    "    print ('O primeiro numero é', number1)\n",
    "    print ('O segundo numero é', number2)\n",
    "    print ('A soma dos dois numeros é', number1+number2)\n",
    "\n",
    "#Chamando a função\n",
    "somaNum (2,3)"
   ]
  },
  {
   "cell_type": "code",
   "execution_count": 4,
   "metadata": {},
   "outputs": [
    {
     "name": "stdout",
     "output_type": "stream",
     "text": [
      "O primeiro numero é 5\n",
      "O segundo numero é 6\n",
      "A soma dos dois numeros é 11\n"
     ]
    }
   ],
   "source": [
    "somaNum (5,6)"
   ]
  },
  {
   "cell_type": "code",
   "execution_count": 5,
   "metadata": {},
   "outputs": [
    {
     "name": "stdout",
     "output_type": "stream",
     "text": [
      "Variavel da função multiplicada: 20\n",
      "10\n"
     ]
    }
   ],
   "source": [
    "varGlobal = 10 #essa variavel é global (sempre que digitado o nome dessa variável, este valor que aparecerá)\n",
    "def multiplicaçao(value1, value2):\n",
    "    varGlobal = (value1 * value2) #essa variavel é local (só valerá quando for chamada a função)\n",
    "    print ('Variavel da função multiplicada:', varGlobal)\n",
    "\n",
    "#Chamando função\n",
    "multiplicaçao(5,4)\n",
    "\n",
    "#Chamando variável\n",
    "print(varGlobal)"
   ]
  },
  {
   "cell_type": "code",
   "execution_count": 10,
   "metadata": {},
   "outputs": [
    {
     "name": "stdout",
     "output_type": "stream",
     "text": [
      "variavel da função multiplicada: 20\n",
      "20\n"
     ]
    }
   ],
   "source": [
    "varGlobal = 10 #Essa variavel é global\n",
    "def multiplica(value1, value2):\n",
    "    varLocal = (value1 * value2) #Essa variavel é local\n",
    "    print ('Váriavel da função multiplicada:', varLocal) \n",
    "    print (varLocal)\n",
    "\n",
    "#Chamando função\n",
    "multiplica (5,4)\n"
   ]
  },
  {
   "cell_type": "code",
   "execution_count": 8,
   "metadata": {},
   "outputs": [],
   "source": [
    "#Criando função\n",
    "def separarTexto(text): \n",
    "    #Retorno\n",
    "    return text.split()"
   ]
  },
  {
   "cell_type": "code",
   "execution_count": 9,
   "metadata": {},
   "outputs": [
    {
     "name": "stdout",
     "output_type": "stream",
     "text": [
      "['Cibele', 'Maria', 'Suely']\n"
     ]
    }
   ],
   "source": [
    "separarTexto('Cibele Maria Suely')"
   ]
  },
  {
   "cell_type": "code",
   "execution_count": 16,
   "metadata": {},
   "outputs": [],
   "source": [
    "#Quando não sabemos a quantidade de parâmetros, basta usar o *\n",
    "def variosParametros(*parametros): #Criando função\n",
    "    for n, item in enumerate(parametros):\n",
    "        print('Parâmetros', n, item)\n",
    "    return #retornar função"
   ]
  },
  {
   "cell_type": "code",
   "execution_count": 18,
   "metadata": {},
   "outputs": [
    {
     "name": "stdout",
     "output_type": "stream",
     "text": [
      "Parâmetros 0 Cibele\n",
      "Parâmetros 1 Suely\n",
      "Parâmetros 2 Giggio\n",
      "Parâmetros 3 Madá\n",
      "Parâmetros 4 Luquinhas\n"
     ]
    }
   ],
   "source": [
    "variosParametros('Cibele', 'Suely', 'Giggio', 'Madá', 'Luquinhas')"
   ]
  }
 ],
 "metadata": {
  "kernelspec": {
   "display_name": "Python 3",
   "language": "python",
   "name": "python3"
  },
  "language_info": {
   "codemirror_mode": {
    "name": "ipython",
    "version": 3
   },
   "file_extension": ".py",
   "mimetype": "text/x-python",
   "name": "python",
   "nbconvert_exporter": "python",
   "pygments_lexer": "ipython3",
   "version": "3.11.9"
  }
 },
 "nbformat": 4,
 "nbformat_minor": 2
}
