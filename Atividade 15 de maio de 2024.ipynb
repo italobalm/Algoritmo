{
 "cells": [
  {
   "cell_type": "markdown",
   "metadata": {},
   "source": [
    "1. Faça um programa que verifique se uma letra digitada é vogal ou consoante."
   ]
  },
  {
   "cell_type": "code",
   "execution_count": 5,
   "metadata": {},
   "outputs": [
    {
     "name": "stdout",
     "output_type": "stream",
     "text": [
      "A letra digitada é uma vogal!\n"
     ]
    }
   ],
   "source": [
    "#Solicitando uma letra\n",
    "letra = str(input('Digite uma letra: '))\n",
    "vogais = ['A', 'a', 'E', 'e', 'I', 'i', 'O', 'o', 'U', 'u']\n",
    "\n",
    "#Verificando se a letra digitada está dentro da lista\n",
    "if letra in vogais:\n",
    "    print('A letra digitada é uma vogal!')\n",
    "else:\n",
    "    print('A letra digitada é uma consoante!')"
   ]
  },
  {
   "cell_type": "markdown",
   "metadata": {},
   "source": [
    "2. Faça um programa que pergunte o preço de três produtos e informe qual produto você deve comprar, sabendo que a decisão é sempre pelo mais barato."
   ]
  },
  {
   "cell_type": "code",
   "execution_count": 6,
   "metadata": {},
   "outputs": [
    {
     "name": "stdout",
     "output_type": "stream",
     "text": [
      "A melhor opção para você é o produto  pizza\n"
     ]
    }
   ],
   "source": [
    "#Criando listas para os produtos e valores\n",
    "produtos = ['', '', '']\n",
    "valores = ['', '', '']\n",
    "\n",
    "#Solicitando a entrada de produtos e valores\n",
    "produtos[0] = str(input('Insira o nome do primeiro produto: '))\n",
    "valores[0] = float(input('Insira o valor do primeiro produto'))\n",
    "\n",
    "produtos[1] = str(input('Insira o nome do segundo produto: '))\n",
    "valores[1] = float(input('Insira o valor do segundo produto'))\n",
    "\n",
    "produtos[2] = str(input('Insira o nome do terceiro produto: '))\n",
    "valores[2] = float(input('Insira o valor do terceiro produto'))\n",
    "\n",
    "#Verificando o melhor produto (mais barato)\n",
    "if valores[0] < valores[1] and valores[0] < valores[2]:\n",
    "    melhorProduto = produtos[0]\n",
    "elif valores[1] < valores[0] and valores[1] < valores[2]:\n",
    "    melhorProduto = produtos[1]\n",
    "else:\n",
    "    melhorProduto = produtos[2]\n",
    "\n",
    "#Mostrando o melhor produto\n",
    "print('A melhor opção para você é o produto ', melhorProduto)\n",
    "    "
   ]
  },
  {
   "cell_type": "markdown",
   "metadata": {},
   "source": [
    "3. Faça um programa que leia três números e mostre-os em ordem decrescente."
   ]
  },
  {
   "cell_type": "code",
   "execution_count": 3,
   "metadata": {},
   "outputs": [
    {
     "name": "stdout",
     "output_type": "stream",
     "text": [
      "4.0 3.0 2.0\n"
     ]
    }
   ],
   "source": [
    "#Criando uma lista para os números\n",
    "numero=[0, 0, 0]\n",
    "\n",
    "#Solicitando os números\n",
    "numero[0] = float(input('Digite o primeiro valor: '))\n",
    "numero[1] = float(input('Digite o segundo valor'))\n",
    "numero[2] = float(input('Digite o terceiro valor'))\n",
    "\n",
    "#Analisando a posição do primeiro valor\n",
    "if numero[0] > numero[1] and numero[0] > numero[2]:\n",
    "    maiorNumero = numero[0]\n",
    "elif numero[0] > numero[1] and numero[0] < numero[2]:\n",
    "    numeroDoMeio = numero[0]\n",
    "elif numero[0] < numero[1] and numero[0] > numero[2]:\n",
    "    numeroDoMeio = numero[0]\n",
    "else:\n",
    "    menorNumero = numero[0]\n",
    "\n",
    "#Analisando a posição do segundo valor\n",
    "if numero[1] > numero[0] and numero[1] > numero[2]:\n",
    "    maiorNumero = numero[1]\n",
    "elif numero[1] > numero[0] and numero[1] < numero[2]:\n",
    "    numeroDoMeio = numero[1]\n",
    "elif numero[1] < numero[0] and numero[1] > numero[2]:\n",
    "    numeroDoMeio = numero[1]\n",
    "else:\n",
    "    menorNumero = numero[1]\n",
    "\n",
    "#Analisando a posição do terceiro valor\n",
    "if numero[2] > numero[0] and numero[2] > numero[1]:\n",
    "    maiorNumero = numero[2]\n",
    "elif numero[2] > numero[0] and numero[2] < numero[1]:\n",
    "    numeroDoMeio = numero[2]\n",
    "elif numero[2] < numero[0] and numero[2] > numero[1]:\n",
    "    numeroDoMeio = numero[2]\n",
    "else:\n",
    "    menorNumero = numero[2]\n",
    "\n",
    "#Mostrando em ordem decrescente\n",
    "print(maiorNumero, numeroDoMeio, menorNumero)\n",
    "\n"
   ]
  },
  {
   "cell_type": "markdown",
   "metadata": {},
   "source": [
    "4. Faça um programa que pergunte em que turno você estuda. Peça para digitar M-matutino ou V-Vespertino ou N-Noturno. Imprima a mensagem \"Bom dia!\", \"Boa tarde!\" ou \"Boa Noite!\" ou \"Valor inválido!\", conforme o caso."
   ]
  },
  {
   "cell_type": "code",
   "execution_count": 4,
   "metadata": {},
   "outputs": [
    {
     "name": "stdout",
     "output_type": "stream",
     "text": [
      "Bom dia!\n"
     ]
    }
   ],
   "source": [
    "#Perguntando o turno de estudo\n",
    "turno = str(input('Insira em qual turno você estuda:  M (Matutino), V (Vespertino) ou N (Noturno)'))\n",
    "\n",
    "#Exibindo a mensagem de acordo com o turno inserido\n",
    "if turno == 'M' or turno == 'm':\n",
    "    print('Bom dia!')\n",
    "elif turno == 'V' or turno == 'v':\n",
    "    print('Boa tarde!')\n",
    "elif turno == 'N' or turno == 'n':\n",
    "    print('Boa noite!')\n",
    "else:\n",
    "    print('Valor inválido!')"
   ]
  },
  {
   "cell_type": "markdown",
   "metadata": {},
   "source": [
    "5. Faça um programa que leia um número e exiba o dia correspondente da semana. (1- Domingo, 2- Segunda, etc). Se for digitado outro valor deve retornar uma mensagem informando valor inválido."
   ]
  },
  {
   "cell_type": "code",
   "execution_count": 16,
   "metadata": {},
   "outputs": [
    {
     "name": "stdout",
     "output_type": "stream",
     "text": [
      "Valor inválido!\n"
     ]
    }
   ],
   "source": [
    "#Solicitando o dia da semana em número inteiro\n",
    "diaDaSemana = int(input('Digite um número para verificar o dia da semana correspondente: '))\n",
    "\n",
    "#Criando uma lista com os dias da semana\n",
    "dias = ['Domingo', 'Segunda', 'Terça', 'Quarta', 'Quinta', 'Sexta', 'Sábado']\n",
    "\n",
    "#Criando condições para relacionar o número digitado com o dia da semana\n",
    "if diaDaSemana == 1:\n",
    "    print(dias[0])\n",
    "elif diaDaSemana == 2:\n",
    "    print(dias[1])\n",
    "elif diaDaSemana == 3:\n",
    "    print(dias[2])\n",
    "elif diaDaSemana == 4:\n",
    "    print(dias[3])\n",
    "elif diaDaSemana == 5:\n",
    "    print(dias[4])\n",
    "elif diaDaSemana == 6:\n",
    "    print(dias[5])\n",
    "elif diaDaSemana == 7:\n",
    "    print(dias[6])\n",
    "else:\n",
    "    print('Valor inválido!')\n",
    "\n"
   ]
  },
  {
   "cell_type": "markdown",
   "metadata": {},
   "source": [
    "5. Faça um programa que lê as duas parciais obtidas por um aluno numa disiciplina ao longo de um semestre, e calcule a sua média. A atribuição de conceitos obedece às regras:\n",
    "\n",
    "Média de Aproveitamento:\n",
    "Entre 9.0 e 10.0          Conceito: A\n",
    "Entre 7.5 e 9.0           Conceito: B\n",
    "Entre 6.0 e 7.5           Conceito: C\n",
    "Entre 4.0 e 6.0           Conceito: D\n",
    "Entre 4.0 e zero          Conceito: E\n",
    "\n",
    "O programa deve mostrar na tela as notas, a média, o conceito correspondente e a mensagem \"APROVADO\" se o conceito for A, B ou C ou \"REPROVADO\" se o conceito for D ou E."
   ]
  },
  {
   "cell_type": "code",
   "execution_count": 23,
   "metadata": {},
   "outputs": [
    {
     "name": "stdout",
     "output_type": "stream",
     "text": [
      " Primeira nota:  4.0 \n",
      " Segunda nota:  4.0 \n",
      " Média:  4.0 \n",
      " Conceito:  D \n",
      " Resultado:  Reprovado\n"
     ]
    }
   ],
   "source": [
    "#Lendo as parciais obtidas pelo aluno e calculando a média\n",
    "nota1 = float(input('Digite a primeira parcial: '))\n",
    "nota2 = float(input('Digite a segunda parcial: '))\n",
    "media = (nota1 + nota2)/2\n",
    "\n",
    "#Variável para armazear os conceitos\n",
    "conceitos = ['A', 'B', 'C', 'D', 'E']\n",
    "\n",
    "#Variável para determinar se o aluno foi aprovado ou reprovado\n",
    "resultado = ['Aprovado', 'Reprovado']\n",
    "\n",
    "#Determinando a mensagem específica com conceito e resultado para cada estudante\n",
    "if media >= 9.0:\n",
    "   print(' Primeira nota: ', nota1, '\\n' ' Segunda nota: ', nota2, '\\n', 'Média: ', media, '\\n', 'Conceito: ', conceitos[0], '\\n', 'Resultado: ', resultado[0])\n",
    "elif media < 9.0 and media >= 7.5:\n",
    "    print(' Primeira nota: ', nota1, '\\n' ' Segunda nota: ', nota2, '\\n', 'Média: ', media, '\\n', 'Conceito: ', conceitos[1], '\\n', 'Resultado: ', resultado[0])\n",
    "elif media < 7.5 and media >= 6.0:\n",
    "    print(' Primeira nota: ', nota1, '\\n' ' Segunda nota: ', nota2, '\\n', 'Média: ', media, '\\n', 'Conceito: ', conceitos[2], '\\n', 'Resultado: ', resultado[0])\n",
    "elif media < 6.0 and media >= 4.0:\n",
    "    print(' Primeira nota: ', nota1, '\\n' ' Segunda nota: ', nota2, '\\n', 'Média: ', media, '\\n', 'Conceito: ', conceitos[3], '\\n', 'Resultado: ', resultado[1])\n",
    "else:\n",
    "    print(' Primeira nota: ', nota1, '\\n' ' Segunda nota: ', nota2, '\\n', 'Média: ', media, '\\n', 'Conceito: ', conceitos[4], '\\n', 'Resultado: ', resultado[1])\n",
    "\n"
   ]
  },
  {
   "cell_type": "markdown",
   "metadata": {},
   "source": [
    "6. Faça um programa que peça um número correspondente a um determinado ano e em seguida informe se este ano é ou não bissexto."
   ]
  },
  {
   "cell_type": "code",
   "execution_count": 9,
   "metadata": {},
   "outputs": [
    {
     "name": "stdout",
     "output_type": "stream",
     "text": [
      "O ano não é bissexto.\n"
     ]
    }
   ],
   "source": [
    "#Solicitando um ano\n",
    "ano = int(input('Digite um ano: '))\n",
    "\n",
    "#Fazendo o cálculo, levando em consideração: \n",
    "#Se o ano for divisível por 4, é um candidato a ser bissexto.\n",
    "#No entanto, se o ano também for divisível por 100, ele não será bissexto, a menos que:\n",
    "#Ele também seja divisível por 400. Nesse caso, ele será bissexto.\n",
    "if ano%4 == 0 and ano%100 > 0 or ano%400 == 0:\n",
    "        print('O ano é bissexto!')\n",
    "else:\n",
    "    print(\"O ano não é bissexto.\")"
   ]
  },
  {
   "cell_type": "markdown",
   "metadata": {},
   "source": [
    "7. Faça um programa que leia 2 números e em seguida pergunte ao usuário qual operação básica(soma, subtração, multiplicação, divisão, exponenciação) ele deseja realizar. O resultado da operação deve ser acompanhado de uma frase que diga se o número é: par ou ímpar; positivo ou negativo; inteiro ou decimal."
   ]
  },
  {
   "cell_type": "code",
   "execution_count": 3,
   "metadata": {},
   "outputs": [
    {
     "name": "stdout",
     "output_type": "stream",
     "text": [
      "Resultado 2.0 + 2.5.\n",
      "O resultado é positivo.\n",
      "O resultado é impar.\n",
      "O resultado é inteiro\n"
     ]
    }
   ],
   "source": [
    "#Lendo dois números e a operação escolhida\n",
    "numero1 = float(input('Digite o primeiro número: '))\n",
    "numero2 = float(input('Digite o segundo número: '))\n",
    "operacao = str(input('Qual operação básica você deseja realizar: \\n (S)Subtração\\n(A)Adição\\n(M)Multiplicação\\n(D)Divisão\\n(E)Exponenciação'))\n",
    "\n",
    "#Realizando a operação e determinando o simbolo de acordo com o que foi solicitado\n",
    "if operacao == 'S' or operacao == 's':\n",
    "    resultado = numero1 - numero2\n",
    "    simbolo = '-'\n",
    "elif operacao == 'A' or 'a':\n",
    "    resultado = numero1 + numero2\n",
    "    simbolo = '+'\n",
    "elif operacao == 'M' or operacao == 'm':\n",
    "    resultado = numero1*numero2\n",
    "    simbolo = '*'\n",
    "elif operacao == 'D' or operacao == 'd':\n",
    "    resultado = numero1/numero2\n",
    "    simbolo = '/'\n",
    "elif operacao == 'E' or operacao == 'e':\n",
    "    resultado = numero1**numero2\n",
    "    simbolo = '**'\n",
    "\n",
    "#Verificando se o resultado é positivo ou negativo\n",
    "if resultado > 0:\n",
    "    positivoNegativo = 'positivo'\n",
    "else:\n",
    "    positivoNegativo = 'negativo'\n",
    "\n",
    "#Verificando se o resultado é par ou ímpar\n",
    "if resultado%2 == 0:\n",
    "    parImpar = 'par'\n",
    "else:\n",
    "    parImpar = 'ímpar'\n",
    "\n",
    "#Verificando se o resultado é inteiro ou decimal\n",
    "if resultado == float:\n",
    "    inteiroDecimal = 'decimal'\n",
    "else:\n",
    "    inteiroDecimal = 'inteiro'\n",
    "\n",
    "#Imprimindo a mensagem com os resultados\n",
    "print(f'Resultado {numero1} {simbolo} {numero2}.\\nO resultado é {positivoNegativo}.\\nO resultado é {parImpar}.\\nO resultado é {inteiroDecimal}')"
   ]
  },
  {
   "cell_type": "markdown",
   "metadata": {},
   "source": [
    "8. Faça um programa que peça a idade e exiba a informação. Os valores aceitáveis devem estar entre 0 e 150. Valores fora desse limite não poderão ser aceitos."
   ]
  },
  {
   "cell_type": "code",
   "execution_count": 9,
   "metadata": {},
   "outputs": [
    {
     "name": "stdout",
     "output_type": "stream",
     "text": [
      "Esse valor não é aceito.\n"
     ]
    }
   ],
   "source": [
    "#Solicitando a idade\n",
    "idade = int(input('Insira a sua idade: '))\n",
    "\n",
    "#Verificando se a idade está dentro do sistema e exibinndo a mensagem de acordo.\n",
    "if idade >= 0 and idade <= 150:\n",
    "    print('Exibindo a informação...')\n",
    "else:\n",
    "    print('Esse valor não é aceito.')"
   ]
  },
  {
   "cell_type": "markdown",
   "metadata": {},
   "source": [
    "9. Utilizando estruturas de repetição e listas (com ou sem .append), faça um programa que leia 5 números e informe a soma e a média dos números."
   ]
  },
  {
   "cell_type": "code",
   "execution_count": 38,
   "metadata": {},
   "outputs": [
    {
     "name": "stdout",
     "output_type": "stream",
     "text": [
      "A soma dos valores é igual a 10.0 e a média é igual a 2.0\n"
     ]
    }
   ],
   "source": [
    "#Criando uma lista para os números que serão solicitados\n",
    "numeros = []\n",
    "\n",
    "#Iniciando o contador\n",
    "contador = 0\n",
    "\n",
    "#Solicitando os números em um loop de 5 vezes e adicionando-os na lista\n",
    "for i in range (1,6):\n",
    "    numeros.append((float(input(f'Insira o {i}º valor'))))\n",
    "    contador+=1\n",
    "#Somando os números da lista\n",
    "soma = numeros[0] + numeros[1] + numeros[2] + numeros[3] + numeros[4]\n",
    "\n",
    "#Calculando a média\n",
    "media = soma/5\n",
    "    \n",
    "#Mensagem para o usuário\n",
    "print(f'A soma dos valores é igual a {soma} e a média é igual a {media}')"
   ]
  },
  {
   "cell_type": "markdown",
   "metadata": {},
   "source": [
    "10. Faça um programa que peça um número inteiro e determine se ele é ou não um número primo. Um número primo é aquele que é divisível somente por ele mesmo e por 1."
   ]
  },
  {
   "cell_type": "code",
   "execution_count": 17,
   "metadata": {},
   "outputs": [
    {
     "name": "stdout",
     "output_type": "stream",
     "text": [
      "O número é primo.\n"
     ]
    }
   ],
   "source": [
    "#Tentativa 1 dando erro\n",
    "#Solicitado um número ao usuário\n",
    "numero = (int(input('Digite um número inteiro: ')))\n",
    "\n",
    "#Verificando se é um número primo e imprimindo a mensagem correspondente\n",
    "if numero <= 1:\n",
    "    print('Não é primo')\n",
    "elif numero%numero != 0 and numero%1 != 0:\n",
    "    print('O número não é primo!')\n",
    "else:\n",
    "    print('O número é primo.')"
   ]
  },
  {
   "cell_type": "code",
   "execution_count": 20,
   "metadata": {},
   "outputs": [
    {
     "name": "stdout",
     "output_type": "stream",
     "text": [
      "O número 7 é primo\n"
     ]
    }
   ],
   "source": [
    "#Tentativa 2\n",
    "#Solicitado um número ao usuário\n",
    "numero = (int(input('Digite um número inteiro: ')))\n",
    "\n",
    "#Verificando se é o número inserido é um candidato a número primo\n",
    "if numero <= 1:\n",
    "    print(f'O número {numero} não é primo')\n",
    "else:\n",
    "    numeroPrimo = True\n",
    "\n",
    "#Para o candidatos a número primo, verificando se ele é divisível pelos números no intervalo de 2 até ele mesmo\n",
    "for i in range (2, numero):\n",
    "    if numero%i == 0:\n",
    "        numeroPrimo = False\n",
    "        #Ponto de parada do loop\n",
    "        break\n",
    "#Verificando se a variável numeroPrimo continua True ou se tornou False\n",
    "if numeroPrimo:\n",
    "    print(f'O número {numero} é primo')\n",
    "else:\n",
    "    print(f'O número {numero} não é primo.')"
   ]
  },
  {
   "cell_type": "markdown",
   "metadata": {},
   "source": [
    "11. O departamento estadual de meteorologia lhe contratou para desenvolver  um programa que leia 5 temperaturas, e informe ao final a menor e a maior temperaturas informadas, bem como a média das temperaturas.    "
   ]
  },
  {
   "cell_type": "code",
   "execution_count": 5,
   "metadata": {},
   "outputs": [
    {
     "name": "stdout",
     "output_type": "stream",
     "text": [
      "Maior temperatura: 32.0\n",
      "Menor temperatura: 26.0\n",
      "Temperatura média: 28.8\n"
     ]
    }
   ],
   "source": [
    "#Criando uma lista onde serão inseridas as temperaturas\n",
    "temperaturas = []\n",
    "\n",
    "#Adicionando 5 temperaturas na lista\n",
    "for i in range(1,6):\n",
    "    temperaturas.append(float(input(f'Insira a {i}º temperatura: ')))\n",
    "\n",
    "#Calculando a temperatura média   \n",
    "media = (temperaturas[0] + temperaturas[1] + temperaturas[2] + temperaturas[3] + temperaturas[4])/len(temperaturas)\n",
    "\n",
    "#Determinando a maior temperatura\n",
    "if temperaturas[0] > temperaturas[1] and temperaturas[0] > temperaturas[2] and temperaturas[0] > temperaturas[3] and temperaturas[0] > temperaturas[4]:\n",
    "    maiorTemperatura = temperaturas[0]\n",
    "elif temperaturas[1] > temperaturas[0] and temperaturas[1] > temperaturas[2] and temperaturas[1] > temperaturas[3] and temperaturas[1] > temperaturas[4]:\n",
    "    maiorTemperatura = temperaturas[1]\n",
    "elif temperaturas[2] > temperaturas[0] and temperaturas[2] > temperaturas[1] and temperaturas[2] > temperaturas[3] and temperaturas[2] > temperaturas[4]:\n",
    "    maiorTemperatura = temperaturas[2]\n",
    "elif temperaturas[3] > temperaturas[0] and temperaturas[3] > temperaturas[2] and temperaturas[3] > temperaturas[1] and temperaturas[3] > temperaturas[4]:\n",
    "    maiorTemperatura = temperaturas[3]\n",
    "else:\n",
    "    maiorTemperatura = temperaturas[4]\n",
    "\n",
    "#Determinando a menor temperatura\n",
    "if temperaturas[0] < temperaturas[1] and temperaturas[0] < temperaturas[2] and temperaturas[0] < temperaturas[3] and temperaturas[0] < temperaturas[4]:\n",
    "    menorTemperatura = temperaturas[0]\n",
    "elif temperaturas[1] < temperaturas[0] and temperaturas[1] < temperaturas[2] and temperaturas[1] < temperaturas[3] and temperaturas[1] < temperaturas[4]:\n",
    "    menorTemperatura = temperaturas[1]\n",
    "elif temperaturas[2] < temperaturas[0] and temperaturas[2] < temperaturas[1] and temperaturas[2] < temperaturas[3] and temperaturas[2] < temperaturas[4]:\n",
    "    menorTemperatura = temperaturas[2]\n",
    "elif temperaturas[3] < temperaturas[0] and temperaturas[3] < temperaturas[2] and temperaturas[3] < temperaturas[1] and temperaturas[3] < temperaturas[4]:\n",
    "    menorTemperatura = temperaturas[3]\n",
    "else:\n",
    "    menorTemperatura = temperaturas[4]\n",
    "\n",
    "\n",
    "\n",
    "#Exibindo o resultado\n",
    "print(f'Maior temperatura: {maiorTemperatura}\\nMenor temperatura: {menorTemperatura}\\nTemperatura média: {media}')"
   ]
  },
  {
   "cell_type": "markdown",
   "metadata": {},
   "source": [
    "12. Um banco concederá um crédito especial aos seus clientes, variável com o saldo médio no último ano. Faça um algoritmo que leia o saldo médio de um cliente e calcule o valor do crédito de acordo com a tabela abaixo. Mostre uma mensagem informando o saldo médio e o valor do crédito."
   ]
  },
  {
   "cell_type": "code",
   "execution_count": 12,
   "metadata": {},
   "outputs": [
    {
     "name": "stdout",
     "output_type": "stream",
     "text": [
      "Saldo médio:        R$ 300.0\n",
      "Crédito Disponível: R$ 60.0\n"
     ]
    }
   ],
   "source": [
    "#Lendo o saldo médio do cliente\n",
    "saldoMedio = float(input('Insira o valor do seu saldo para verificar a disponibilidade de crédito: '))\n",
    "\n",
    "#Verificando a disponilidade de crédito para o cliente\n",
    "if saldoMedio > 601:\n",
    "    creditoEspecial = (saldoMedio*40)/100\n",
    "elif saldoMedio >= 401 and saldoMedio <= 600:\n",
    "    creditoEspecial = (saldoMedio*30)/100\n",
    "elif saldoMedio >= 201 and saldoMedio <= 400:\n",
    "    creditoEspecial = (saldoMedio*20)/100\n",
    "else:\n",
    "    creditoEspecial = 0.00\n",
    " \n",
    "\n",
    "print(f'Saldo médio:        R$ {saldoMedio}\\nCrédito Disponível: R$ {creditoEspecial}')   "
   ]
  },
  {
   "cell_type": "markdown",
   "metadata": {},
   "source": [
    "13. Você foi contratado(a) para fazer um serviço para o INSS (Instituto Nacional do Seguro Social) do Brasil. O trabalho consiste em criar um programa que diga a pessoa o ano que ela poderá se aposentar. Você deve perguntar a pessoa, o nome, idade e criar uma mensagem dizendo em qual ano ela irá se aposentar. Considere que todas as pessoas poderão se aposentar aos 65 anos de idade."
   ]
  },
  {
   "cell_type": "code",
   "execution_count": 15,
   "metadata": {},
   "outputs": [
    {
     "name": "stdout",
     "output_type": "stream",
     "text": [
      "Olá Ítalo! Você poderá se aposentar dentro de 43 anos, em 2067.\n"
     ]
    }
   ],
   "source": [
    "#Lendo os dados do cliente\n",
    "nome = str(input('Insira seu nome: '))\n",
    "idade = int(input('Insira sua idade: '))\n",
    "\n",
    "#Definindo o ano atual\n",
    "anoAtual = 2024\n",
    "\n",
    "#Realizando o cálculo de quantos anos faltam para a aposentadoria\n",
    "aposentadoria = 65 - idade\n",
    "\n",
    "#Realizando o cálculo de qual ano será a aposentadoria\n",
    "anoAposentadoria = anoAtual + aposentadoria\n",
    "\n",
    "\n",
    "\n",
    "#Exibindo mensagem ao cliente\n",
    "print(f'Olá {nome}! Você poderá se aposentar dentro de {aposentadoria} anos, em {anoAposentadoria}.')"
   ]
  },
  {
   "cell_type": "markdown",
   "metadata": {},
   "source": [
    "14. Faça um programa para o cálculo de uma folha de pagamento, sabendo que os descontos são do imposto de renda, que depende do salário bruto (conforme a tabela), 3% para o sindicato e que o FGTS corresponde a 11% do salário bruto, mas não é descontado (é a empresa que deposita). O salário líquido corresponde ao salário bruto menos os descontos. O programa deverá pedir ao usuário o valor da sua hora e a quantidade de horas trabalhadas no mês."
   ]
  },
  {
   "cell_type": "code",
   "execution_count": 22,
   "metadata": {},
   "outputs": [
    {
     "name": "stdout",
     "output_type": "stream",
     "text": [
      "Salário bruto: 6400.0\n",
      "Descontos: -R$192.0 sindicato, -R$1760.0 imposto de renda\n",
      "Valor líquido: 4448.0\n"
     ]
    }
   ],
   "source": [
    "#Lendo a quantidade de horas  que o indivíduo trabalha ao mês e o valor de cada hora\n",
    "valorHora = float(input('Insira o valor da sua hora de trabalho: '))\n",
    "horasMensais = int(input('Insira a quantidade de horas trabalhadas por mês: '))\n",
    "\n",
    "#Calculando o salário bruto\n",
    "salarioBruto = (valorHora * horasMensais)\n",
    "\n",
    "#Calculando o desconto do valor de 3% do sindicato\n",
    "sindicato = (salarioBruto*3)/100\n",
    "\n",
    "#Calculando o valor do FGTS (que no entanto, não entrará nos descontos finais, pois a empresa que pagha)\n",
    "fgts = (salarioBruto*11)/100\n",
    "\n",
    "#Calculando o valor do imposto de renda de acordo com o salario do usuário\n",
    "if salarioBruto <= 2112:\n",
    "    imposto = 0\n",
    "elif salarioBruto > 2112 and salarioBruto <= 2826.65:\n",
    "    imposto = (salarioBruto*7.5)/100\n",
    "elif salarioBruto > 2826.65 and salarioBruto <= 3751.05:\n",
    "    imposto = (salarioBruto*15)/100\n",
    "elif salarioBruto > 3751.05 and salarioBruto <= 4664.68:\n",
    "    imposto = (salarioBruto*22.5)/100\n",
    "else:\n",
    "    imposto = (salarioBruto*27.5)/100\n",
    "\n",
    "#Realizando o calculo do salário líquido após os descontos\n",
    "salarioLiquido = salarioBruto - imposto - sindicato\n",
    "\n",
    "#Exibindo a folha de pagamento ao usuário\n",
    "print(f'Salário bruto: {salarioBruto}\\nDescontos: -R${sindicato} sindicato, -R${imposto} imposto de renda\\nValor líquido: {salarioLiquido}')"
   ]
  }
 ],
 "metadata": {
  "kernelspec": {
   "display_name": "Python 3",
   "language": "python",
   "name": "python3"
  },
  "language_info": {
   "codemirror_mode": {
    "name": "ipython",
    "version": 3
   },
   "file_extension": ".py",
   "mimetype": "text/x-python",
   "name": "python",
   "nbconvert_exporter": "python",
   "pygments_lexer": "ipython3",
   "version": "3.12.0"
  }
 },
 "nbformat": 4,
 "nbformat_minor": 2
}
