{
 "cells": [
  {
   "cell_type": "markdown",
   "metadata": {},
   "source": [
    "Cinco patinhos"
   ]
  },
  {
   "cell_type": "code",
   "execution_count": 4,
   "metadata": {},
   "outputs": [
    {
     "name": "stdout",
     "output_type": "stream",
     "text": [
      "5 patinhos foram passear, além das montanhas para brincar, a mamãe gritou: Quá, quá, quá, quá, mas só 4 patinhos voltaram de lá\n",
      "4 patinhos foram passear, além das montanhas para brincar, a mamãe gritou: Quá, quá, quá, quá, mas só 3 patinhos voltaram de lá\n",
      "3 patinhos foram passear, além das montanhas para brincar, a mamãe gritou: Quá, quá, quá, quá, mas só 2 patinhos voltaram de lá\n",
      "2 patinhos foram passear, além das montanhas para brincar, a mamãe gritou: Quá, quá, quá, quá, mas só 1 patinho voltou de lá\n",
      "1 patinho foi passear, além das montanhas para brincar, a mamãe gritou: Quá, quá, quá, quá, mas nenhum patinho voltou de lá...\n"
     ]
    }
   ],
   "source": [
    "#Definindo a quantidade inicial de patinhos\n",
    "quantidade = 6\n",
    "\n",
    "#Criando loop para repetir as frases da música\n",
    "for i in range (1, 6):\n",
    "    #Reduzindo a quantidade de patinhos a cada loop\n",
    "    quantidade = quantidade-1\n",
    "\n",
    "    #Verificando a quantidade atual de patinhos para imprimir uma mensagem condizente\n",
    "    if quantidade == 1:\n",
    "        print(f'{quantidade} patinho foi passear, além das montanhas para brincar, a mamãe gritou: Quá, quá, quá, quá, mas nenhum patinho voltou de lá...')\n",
    "    else:\n",
    "        if (quantidade - 1 <= 1):\n",
    "            patinhos = 'patinho voltou'\n",
    "        else:\n",
    "            patinhos = 'patinhos voltaram'\n",
    "        print(f'{quantidade} patinhos foram passear, além das montanhas para brincar, a mamãe gritou: Quá, quá, quá, quá, mas só {quantidade-1} {patinhos} de lá')"
   ]
  },
  {
   "cell_type": "markdown",
   "metadata": {},
   "source": [
    "Um elefante incomoda"
   ]
  },
  {
   "cell_type": "code",
   "execution_count": 21,
   "metadata": {},
   "outputs": [
    {
     "name": "stdout",
     "output_type": "stream",
     "text": [
      "1 elefante  incomoda muita gente, 2 elefantes incomodam, incomodam muito mais!\n",
      "2 elefantes incomodam  muita gente, 3 elefantes incomodam incomodam incomodam  muito mais!\n",
      "3 elefantes incomodam  muita gente, 4 elefantes incomodam incomodam incomodam incomodam  muito mais!\n",
      "4 elefantes incomodam  muita gente, 5 elefantes incomodam incomodam incomodam incomodam incomodam  muito mais!\n",
      "5 elefantes incomodam  muita gente, 6 elefantes incomodam incomodam incomodam incomodam incomodam incomodam  muito mais!\n",
      "6 elefantes incomodam  muita gente, 7 elefantes incomodam incomodam incomodam incomodam incomodam incomodam incomodam  muito mais!\n",
      "7 elefantes incomodam  muita gente, 8 elefantes incomodam incomodam incomodam incomodam incomodam incomodam incomodam incomodam  muito mais!\n",
      "8 elefantes incomodam  muita gente, 9 elefantes incomodam incomodam incomodam incomodam incomodam incomodam incomodam incomodam incomodam  muito mais!\n",
      "9 elefantes incomodam  muita gente, 10 elefantes incomodam incomodam incomodam incomodam incomodam incomodam incomodam incomodam incomodam incomodam  muito mais!\n",
      "10 elefantes incomodam  muita gente, 11 elefantes incomodam incomodam incomodam incomodam incomodam incomodam incomodam incomodam incomodam incomodam incomodam  muito mais!\n"
     ]
    }
   ],
   "source": [
    "#Mostrando a primeira frase da música\n",
    "print('1 elefante incomoda muita gente, 2 elefantes incomodam, incomodam muito mais!')\n",
    "\n",
    "#Criando um loop para repetir as demais frases da música\n",
    "# 'i' também é a quantidade de elefantes\n",
    "for i in range (2, 11):\n",
    "    #Verificando a quantidade de elefantes para determinar o singular ou plural das palavras\n",
    "    if i == 1:\n",
    "        elefante = 'elefante'\n",
    "        incomoda = 'incomoda'\n",
    "    else: \n",
    "        elefante = 'elefantes'\n",
    "        incomoda = 'incomodam '\n",
    "\n",
    "    print(f'{i} {elefante} {incomoda} muita gente, {i+1} {elefante} {incomoda*(i+1)} muito mais!')"
   ]
  },
  {
   "cell_type": "markdown",
   "metadata": {},
   "source": [
    "Viva Mariana"
   ]
  },
  {
   "cell_type": "code",
   "execution_count": 36,
   "metadata": {},
   "outputs": [
    {
     "name": "stdout",
     "output_type": "stream",
     "text": [
      "Mariana conta 1, Mariana conta 1, é 1, é 1, é Ana, Viva Mariana! Viva Mariana!\n",
      "Mariana conta 2, Mariana conta 2, ['é 1', 'é 2'] é Ana, Viva Mariana! Viva Mariana!\n",
      "Mariana conta 3, Mariana conta 3, ['é 1', 'é 2', 'é 3'] é Ana, Viva Mariana! Viva Mariana!\n",
      "Mariana conta 4, Mariana conta 4, ['é 1', 'é 2', 'é 3', 'é 4'] é Ana, Viva Mariana! Viva Mariana!\n",
      "Mariana conta 5, Mariana conta 5, ['é 1', 'é 2', 'é 3', 'é 4', 'é 5'] é Ana, Viva Mariana! Viva Mariana!\n",
      "Mariana conta 6, Mariana conta 6, ['é 1', 'é 2', 'é 3', 'é 4', 'é 5', 'é 6'] é Ana, Viva Mariana! Viva Mariana!\n",
      "Mariana conta 7, Mariana conta 7, ['é 1', 'é 2', 'é 3', 'é 4', 'é 5', 'é 6', 'é 7'] é Ana, Viva Mariana! Viva Mariana!\n",
      "Mariana conta 8, Mariana conta 8, ['é 1', 'é 2', 'é 3', 'é 4', 'é 5', 'é 6', 'é 7', 'é 8'] é Ana, Viva Mariana! Viva Mariana!\n",
      "Mariana conta 9, Mariana conta 9, ['é 1', 'é 2', 'é 3', 'é 4', 'é 5', 'é 6', 'é 7', 'é 8', 'é 9'] é Ana, Viva Mariana! Viva Mariana!\n",
      "Mariana conta 10, Mariana conta 10, ['é 1', 'é 2', 'é 3', 'é 4', 'é 5', 'é 6', 'é 7', 'é 8', 'é 9', 'é 10'] é Ana, Viva Mariana! Viva Mariana!\n"
     ]
    }
   ],
   "source": [
    "#Mostrando a primeira frase da música\n",
    "print('Mariana conta 1, Mariana conta 1, é 1, é 1, é Ana, Viva Mariana! Viva Mariana!')\n",
    "\n",
    "#Iniciando uma lista com a contagem de Mariana\n",
    "contagemMariana = ['é 1', 'é 2', 'é 3', 'é 4', 'é 5', 'é 6', 'é 7', 'é 8', 'é 9', 'é 10']\n",
    "\n",
    "#Criando um loop para repetir as frases restantes da música\n",
    "for i in range (2, 11):\n",
    "    print(f'Mariana conta {i}, Mariana conta {i}, {contagemMariana[0:i]} é Ana, Viva Mariana! Viva Mariana!')"
   ]
  }
 ],
 "metadata": {
  "kernelspec": {
   "display_name": "Python 3",
   "language": "python",
   "name": "python3"
  },
  "language_info": {
   "codemirror_mode": {
    "name": "ipython",
    "version": 3
   },
   "file_extension": ".py",
   "mimetype": "text/x-python",
   "name": "python",
   "nbconvert_exporter": "python",
   "pygments_lexer": "ipython3",
   "version": "3.12.0"
  }
 },
 "nbformat": 4,
 "nbformat_minor": 2
}
