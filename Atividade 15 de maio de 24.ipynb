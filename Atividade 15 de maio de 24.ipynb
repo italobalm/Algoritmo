{
 "cells": [
  {
   "cell_type": "markdown",
   "metadata": {},
   "source": [
    "1. Faça um programa que verifique se uma letra digitada é vogal ou consoante."
   ]
  },
  {
   "cell_type": "code",
   "execution_count": 5,
   "metadata": {},
   "outputs": [
    {
     "name": "stdout",
     "output_type": "stream",
     "text": [
      "A letra digitada é uma vogal!\n"
     ]
    }
   ],
   "source": [
    "#Solicitando uma letra\n",
    "letra = str(input('Digite uma letra: '))\n",
    "vogais = ['A', 'a', 'E', 'e', 'I', 'i', 'O', 'o', 'U', 'u']\n",
    "\n",
    "#Verificando se a letra digitada está dentro da lista\n",
    "if letra in vogais:\n",
    "    print('A letra digitada é uma vogal!')\n",
    "else:\n",
    "    print('A letra digitada é uma consoante!')"
   ]
  },
  {
   "cell_type": "markdown",
   "metadata": {},
   "source": [
    "2. Faça um programa que pergunte o preço de três produtos e informe qual produto você deve comprar, sabendo que a decisão é sempre pelo mais barato."
   ]
  },
  {
   "cell_type": "code",
   "execution_count": 6,
   "metadata": {},
   "outputs": [
    {
     "name": "stdout",
     "output_type": "stream",
     "text": [
      "A melhor opção para você é o produto  pizza\n"
     ]
    }
   ],
   "source": [
    "#Criando listas para os produtos e valores\n",
    "produtos = ['', '', '']\n",
    "valores = ['', '', '']\n",
    "\n",
    "#Solicitando a entrada de produtos e valores\n",
    "produtos[0] = str(input('Insira o nome do primeiro produto: '))\n",
    "valores[0] = float(input('Insira o valor do primeiro produto'))\n",
    "\n",
    "produtos[1] = str(input('Insira o nome do segundo produto: '))\n",
    "valores[1] = float(input('Insira o valor do segundo produto'))\n",
    "\n",
    "produtos[2] = str(input('Insira o nome do terceiro produto: '))\n",
    "valores[2] = float(input('Insira o valor do terceiro produto'))\n",
    "\n",
    "#Verificando o melhor produto (mais barato)\n",
    "if valores[0] < valores[1] and valores[0] < valores[2]:\n",
    "    melhorProduto = produtos[0]\n",
    "elif valores[1] < valores[0] and valores[1] < valores[2]:\n",
    "    melhorProduto = produtos[1]\n",
    "else:\n",
    "    melhorProduto = produtos[2]\n",
    "\n",
    "#Mostrando o melhor produto\n",
    "print('A melhor opção para você é o produto ', melhorProduto)\n",
    "    "
   ]
  },
  {
   "cell_type": "markdown",
   "metadata": {},
   "source": [
    "3. Faça um programa que leia três números e mostre-os em ordem decrescente."
   ]
  },
  {
   "cell_type": "code",
   "execution_count": 3,
   "metadata": {},
   "outputs": [
    {
     "name": "stdout",
     "output_type": "stream",
     "text": [
      "4.0 3.0 2.0\n"
     ]
    }
   ],
   "source": [
    "#Criando uma lista para os números\n",
    "numero=[0, 0, 0]\n",
    "\n",
    "#Solicitando os números\n",
    "numero[0] = float(input('Digite o primeiro valor: '))\n",
    "numero[1] = float(input('Digite o segundo valor'))\n",
    "numero[2] = float(input('Digite o terceiro valor'))\n",
    "\n",
    "#Analisando a posição do primeiro valor\n",
    "if numero[0] > numero[1] and numero[0] > numero[2]:\n",
    "    maiorNumero = numero[0]\n",
    "elif numero[0] > numero[1] and numero[0] < numero[2]:\n",
    "    numeroDoMeio = numero[0]\n",
    "elif numero[0] < numero[1] and numero[0] > numero[2]:\n",
    "    numeroDoMeio = numero[0]\n",
    "else:\n",
    "    menorNumero = numero[0]\n",
    "\n",
    "#Analisando a posição do segundo valor\n",
    "if numero[1] > numero[0] and numero[1] > numero[2]:\n",
    "    maiorNumero = numero[1]\n",
    "elif numero[1] > numero[0] and numero[1] < numero[2]:\n",
    "    numeroDoMeio = numero[1]\n",
    "elif numero[1] < numero[0] and numero[1] > numero[2]:\n",
    "    numeroDoMeio = numero[1]\n",
    "else:\n",
    "    menorNumero = numero[1]\n",
    "\n",
    "#Analisando a posição do terceiro valor\n",
    "if numero[2] > numero[0] and numero[2] > numero[1]:\n",
    "    maiorNumero = numero[2]\n",
    "elif numero[2] > numero[0] and numero[2] < numero[1]:\n",
    "    numeroDoMeio = numero[2]\n",
    "elif numero[2] < numero[0] and numero[2] > numero[1]:\n",
    "    numeroDoMeio = numero[2]\n",
    "else:\n",
    "    menorNumero = numero[2]\n",
    "\n",
    "#Mostrando em ordem decrescente\n",
    "print(maiorNumero, numeroDoMeio, menorNumero)\n",
    "\n"
   ]
  },
  {
   "cell_type": "markdown",
   "metadata": {},
   "source": [
    "4. Faça um programa que pergunte em que turno você estuda. Peça para digitar M-matutino ou V-Vespertino ou N-Noturno. Imprima a mensagem \"Bom dia!\", \"Boa tarde!\" ou \"Boa Noite!\" ou \"Valor inválido!\", conforme o caso."
   ]
  },
  {
   "cell_type": "code",
   "execution_count": 4,
   "metadata": {},
   "outputs": [
    {
     "name": "stdout",
     "output_type": "stream",
     "text": [
      "Bom dia!\n"
     ]
    }
   ],
   "source": [
    "#Perguntando o turno de estudo\n",
    "turno = str(input('Insira em qual turno você estuda:  M (Matutino), V (Vespertino) ou N (Noturno)'))\n",
    "\n",
    "#Exibindo a mensagem de acordo com o turno inserido\n",
    "if turno == 'M' or turno == 'm':\n",
    "    print('Bom dia!')\n",
    "elif turno == 'V' or turno == 'v':\n",
    "    print('Boa tarde!')\n",
    "elif turno == 'N' or turno == 'n':\n",
    "    print('Boa noite!')\n",
    "else:\n",
    "    print('Valor inválido!')"
   ]
  },
  {
   "cell_type": "markdown",
   "metadata": {},
   "source": [
    "5. Faça um programa que leia um número e exiba o dia correspondente da semana. (1- Domingo, 2- Segunda, etc). Se for digitado outro valor deve retornar uma mensagem informando valor inválido."
   ]
  },
  {
   "cell_type": "code",
   "execution_count": 16,
   "metadata": {},
   "outputs": [
    {
     "name": "stdout",
     "output_type": "stream",
     "text": [
      "Valor inválido!\n"
     ]
    }
   ],
   "source": [
    "#Solicitando o dia da semana em número inteiro\n",
    "diaDaSemana = int(input('Digite um número para verificar o dia da semana correspondente: '))\n",
    "\n",
    "#Criando uma lista com os dias da semana\n",
    "dias = ['Domingo', 'Segunda', 'Terça', 'Quarta', 'Quinta', 'Sexta', 'Sábado']\n",
    "\n",
    "#Criando condições para relacionar o número digitado com o dia da semana\n",
    "if diaDaSemana == 1:\n",
    "    print(dias[0])\n",
    "elif diaDaSemana == 2:\n",
    "    print(dias[1])\n",
    "elif diaDaSemana == 3:\n",
    "    print(dias[2])\n",
    "elif diaDaSemana == 4:\n",
    "    print(dias[3])\n",
    "elif diaDaSemana == 5:\n",
    "    print(dias[4])\n",
    "elif diaDaSemana == 6:\n",
    "    print(dias[5])\n",
    "elif diaDaSemana == 7:\n",
    "    print(dias[6])\n",
    "else:\n",
    "    print('Valor inválido!')\n",
    "\n"
   ]
  },
  {
   "cell_type": "markdown",
   "metadata": {},
   "source": [
    "5. Faça um programa que lê as duas parciais obtidas por um aluno numa disiciplina ao longo de um semestre, e calcule a sua média. A atribuição de conceitos obedece às regras:\n",
    "\n",
    "Média de Aproveitamento:\n",
    "Entre 9.0 e 10.0          Conceito: A\n",
    "Entre 7.5 e 9.0           Conceito: B\n",
    "Entre 6.0 e 7.5           Conceito: C\n",
    "Entre 4.0 e 6.0           Conceito: D\n",
    "Entre 4.0 e zero          Conceito: E\n",
    "\n",
    "O programa deve mostrar na tela as notas, a média, o conceito correspondente e a mensagem \"APROVADO\" se o conceito for A, B ou C ou \"REPROVADO\" se o conceito for D ou E."
   ]
  },
  {
   "cell_type": "code",
   "execution_count": 23,
   "metadata": {},
   "outputs": [
    {
     "name": "stdout",
     "output_type": "stream",
     "text": [
      " Primeira nota:  4.0 \n",
      " Segunda nota:  4.0 \n",
      " Média:  4.0 \n",
      " Conceito:  D \n",
      " Resultado:  Reprovado\n"
     ]
    }
   ],
   "source": [
    "#Lendo as parciais obtidas pelo aluno e calculando a média\n",
    "nota1 = float(input('Digite a primeira parcial: '))\n",
    "nota2 = float(input('Digite a segunda parcial: '))\n",
    "media = (nota1 + nota2)/2\n",
    "\n",
    "\n",
    "conceitos = ['A', 'B', 'C', 'D', 'E']\n",
    "resultado = ['Aprovado', 'Reprovado']\n",
    "\n",
    "if media >= 9.0:\n",
    "   print(' Primeira nota: ', nota1, '\\n' ' Segunda nota: ', nota2, '\\n', 'Média: ', media, '\\n', 'Conceito: ', conceitos[0], '\\n', 'Resultado: ', resultado[0])\n",
    "elif media < 9.0 and media >= 7.5:\n",
    "    print(' Primeira nota: ', nota1, '\\n' ' Segunda nota: ', nota2, '\\n', 'Média: ', media, '\\n', 'Conceito: ', conceitos[1], '\\n', 'Resultado: ', resultado[0])\n",
    "elif media < 7.5 and media >= 6.0:\n",
    "    print(' Primeira nota: ', nota1, '\\n' ' Segunda nota: ', nota2, '\\n', 'Média: ', media, '\\n', 'Conceito: ', conceitos[2], '\\n', 'Resultado: ', resultado[0])\n",
    "elif media < 6.0 and media >= 4.0:\n",
    "    print(' Primeira nota: ', nota1, '\\n' ' Segunda nota: ', nota2, '\\n', 'Média: ', media, '\\n', 'Conceito: ', conceitos[3], '\\n', 'Resultado: ', resultado[1])\n",
    "else:\n",
    "    print(' Primeira nota: ', nota1, '\\n' ' Segunda nota: ', nota2, '\\n', 'Média: ', media, '\\n', 'Conceito: ', conceitos[4], '\\n', 'Resultado: ', resultado[1])\n",
    "\n"
   ]
  },
  {
   "cell_type": "markdown",
   "metadata": {},
   "source": [
    "6. Faça um programa que peça um número correspondente a um determinado ano e em seguida informe se este ano é ou não bissexto."
   ]
  },
  {
   "cell_type": "code",
   "execution_count": 9,
   "metadata": {},
   "outputs": [
    {
     "name": "stdout",
     "output_type": "stream",
     "text": [
      "O ano não é bissexto.\n"
     ]
    }
   ],
   "source": [
    "#Solicitando um ano\n",
    "ano = int(input('Digite um ano: '))\n",
    "\n",
    "#Fazendo o cálculo, levando em consideração: \n",
    "#Se o ano for divisível por 4, é um candidato a ser bissexto.\n",
    "#No entanto, se o ano também for divisível por 100, ele não será bissexto, a menos que:\n",
    "#Ele também seja divisível por 400. Nesse caso, ele será bissexto.\n",
    "if ano%4 == 0 and ano%100 > 0 or ano%400 == 0:\n",
    "        print('O ano é bissexto!')\n",
    "else:\n",
    "    print(\"O ano não é bissexto.\")"
   ]
  },
  {
   "cell_type": "markdown",
   "metadata": {},
   "source": [
    "7. Faça um programa que leia 2 números e em seguida pergunte ao usuário qual operação básica(soma, subtração, multiplicação, divisão, exponenciação) ele deseja realizar. O resultado da operação deve ser acompanhado de uma frase que diga se o número é: par ou ímpar; positivo ou negativo; inteiro ou decimal."
   ]
  },
  {
   "cell_type": "code",
   "execution_count": 4,
   "metadata": {},
   "outputs": [
    {
     "name": "stdout",
     "output_type": "stream",
     "text": [
      " Resultado da operação:  5.0 - 4.0 = 1.0 \n",
      " Positivo ou Negativo:   Negativo\n"
     ]
    }
   ],
   "source": [
    "numero1 = float(input('Digite o primeiro número: '))\n",
    "numero2 = float(input('Digite o segundo número: '))\n",
    "operacao = str(input('Qual operação básica você deseja realizar: \\n (S)Subtração\\n(A)Adição\\n(M)Multiplicação\\n(D)Divisão\\n(E)Exponenciação'))\n",
    "resultado = 0\n",
    "positivoOuNegativo = ''\n",
    "\n",
    "\n",
    "if operacao == 'S':\n",
    "    resultado = (numero1 - numero2)\n",
    "    if resultado > 1: \n",
    "        positivoOuNegativo = 'Positivo'\n",
    "    else:\n",
    "        positivoOuNegativo = 'Negativo'\n",
    "        \n",
    "        \n",
    "    print(' Resultado da operação: ', numero1, '-', numero2, '=', resultado, '\\n Positivo ou Negativo:  ', positivoOuNegativo, )"
   ]
  },
  {
   "cell_type": "markdown",
   "metadata": {},
   "source": [
    "8. Faça um programa que peça a idade e exiba a informação. Os valores aceitáveis devem estar entre 0 e 150. Valores fora desse limite não poderão ser aceitos."
   ]
  },
  {
   "cell_type": "code",
   "execution_count": 9,
   "metadata": {},
   "outputs": [
    {
     "name": "stdout",
     "output_type": "stream",
     "text": [
      "Esse valor não é aceito.\n"
     ]
    }
   ],
   "source": [
    "idade = int(input('Insira a sua idade: '))\n",
    "if idade >= 0 and idade <= 150:\n",
    "    print('Exibindo a informação...')\n",
    "else:\n",
    "    print('Esse valor não é aceito.')"
   ]
  },
  {
   "cell_type": "markdown",
   "metadata": {},
   "source": [
    "9. Utilizando estruturas de repetição e listas (com ou sem .append), faça um programa que leia 5 números e informe a soma e a média dos números."
   ]
  },
  {
   "cell_type": "code",
   "execution_count": 38,
   "metadata": {},
   "outputs": [
    {
     "name": "stdout",
     "output_type": "stream",
     "text": [
      "A soma dos valores é igual a 10.0 e a média é igual a 2.0\n"
     ]
    }
   ],
   "source": [
    "#Criando uma lista para os números que serão solicitados\n",
    "numeros = []\n",
    "\n",
    "#Iniciando o contador\n",
    "contador = 0\n",
    "\n",
    "#Solicitando os números em um loop de 5 vezes e adicionando-os na lista\n",
    "for i in range (1,6):\n",
    "    numeros.append((float(input(f'Insira o {i}º valor'))))\n",
    "    contador+=1\n",
    "#Somando os números da lista\n",
    "soma = numeros[0] + numeros[1] + numeros[2] + numeros[3] + numeros[4]\n",
    "\n",
    "#Calculando a média\n",
    "media = soma/5\n",
    "    \n",
    "#Mensagem para o usuário\n",
    "print(f'A soma dos valores é igual a {soma} e a média é igual a {media}')"
   ]
  },
  {
   "cell_type": "markdown",
   "metadata": {},
   "source": [
    "10. Faça um programa que peça um número inteiro e determine se ele é ou não um número primo. Um número primo é aquele que é divisível somente por ele mesmo e por 1."
   ]
  },
  {
   "cell_type": "code",
   "execution_count": 44,
   "metadata": {},
   "outputs": [
    {
     "name": "stdout",
     "output_type": "stream",
     "text": [
      "O número é primo!\n"
     ]
    }
   ],
   "source": [
    "numero = (int(input('Digite um número inteiro: ')))\n",
    "if numero%numero == 0 and numero%1 == 0 and numero:\n",
    "    print('O número é primo!')\n",
    "else:\n",
    "    print('O número não é primo.')"
   ]
  }
 ],
 "metadata": {
  "kernelspec": {
   "display_name": "Python 3",
   "language": "python",
   "name": "python3"
  },
  "language_info": {
   "codemirror_mode": {
    "name": "ipython",
    "version": 3
   },
   "file_extension": ".py",
   "mimetype": "text/x-python",
   "name": "python",
   "nbconvert_exporter": "python",
   "pygments_lexer": "ipython3",
   "version": "3.12.2"
  }
 },
 "nbformat": 4,
 "nbformat_minor": 2
}
